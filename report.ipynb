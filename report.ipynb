{
 "cells": [
  {
   "cell_type": "code",
   "execution_count": 1,
   "metadata": {},
   "outputs": [],
   "source": [
    "import numpy as np\n",
    "import matplotlib.pyplot as plt\n",
    "from sklearn.model_selection import train_test_split\n",
    "from sklearn.linear_model import Ridge, Lasso\n",
    "from sklearn.ensemble import RandomForestRegressor\n",
    "from sklearn.metrics import r2_score\n",
    "from sklearn.preprocessing import StandardScaler"
   ]
  },
  {
   "attachments": {},
   "cell_type": "markdown",
   "metadata": {},
   "source": [
    "## 2 - Bayes estimator and Bayes risk"
   ]
  },
  {
   "attachments": {},
   "cell_type": "markdown",
   "metadata": {},
   "source": [
    "Question 1 (M) : Propose a supervised learning setting :\n",
    "- input space X\n",
    "- output space Y\n",
    "- a random variable (X, Y) with a joint distribution.\n",
    "- a loss function l(x, y)\n",
    "\n",
    "l = X × Y → R+ <br>\n",
    "(x, y) → l(x, y)\n",
    "\n",
    "\n",
    "Compute the Bayes predictor f* : X → Y and the Bayes risk associated with this\n",
    "setting. Remark : you have to use a setting different than the settings seen during\n",
    "the course, in terms of input space X and output space Y. However, you can use any\n",
    "classical loss function l (square loss, \"0-1\" loss, etc)."
   ]
  },
  {
   "attachments": {},
   "cell_type": "markdown",
   "metadata": {},
   "source": [
    "On se propose d'étudier le cas des prix des appatements à Paris en fonction de leur surface. <br><br>\n",
    "On suppose que la surface est une variable aléatoire continue entre 9 et 100 et que le prix est suit une variable aléatoire Y = 1000*X + epsilon (epsilon étant une variable gaussienne centrée et d'écart type sigma=4000).<br><br>\n",
    "\n",
    "On suppose que la fonction de perte est la fonction de perte quadratique.\n",
    "\n"
   ]
  },
  {
   "cell_type": "code",
   "execution_count": 2,
   "metadata": {},
   "outputs": [],
   "source": [
    "# instantiate a Pseudo-random number generator (PRNG)\n",
    "rng = np.random.default_rng()\n",
    "n_samples = int(1e6)\n",
    "X = rng.uniform(low=9, high=100, size=n_samples)\n",
    "y = 1000 * X + rng.normal(loc=0, scale=4000, size=n_samples)"
   ]
  },
  {
   "cell_type": "code",
   "execution_count": 3,
   "metadata": {},
   "outputs": [
    {
     "data": {
      "text/plain": [
       "[<matplotlib.lines.Line2D at 0x13f4bd180>]"
      ]
     },
     "execution_count": 3,
     "metadata": {},
     "output_type": "execute_result"
    },
    {
     "data": {
      "image/png": "[encoded data removed]",
      "text/plain": [
       "<Figure size 640x480 with 1 Axes>"
      ]
     },
     "metadata": {},
     "output_type": "display_data"
    }
   ],
   "source": [
    "plt.plot(X[:100], y[:100], 'o')"
   ]
  },
  {
   "attachments": {},
   "cell_type": "markdown",
   "metadata": {},
   "source": [
    "Here the the Bayes predictor f* : X → Y is the function that minimizes the Bayes risk associated with this setting. <br><br>\n",
    "f* = 1000*x <br>\n",
    "R* = E[l(x, f*(x))] = E[(1000*x + eps - 1000*x)^2]<br>\n",
    "R* = E[eps^2] = 4000**2 = 16 000 000 puisque Var(eps) = E[eps^2] - E[eps]^2 = E[eps^2] = 16 000 000 "
   ]
  },
  {
   "attachments": {},
   "cell_type": "markdown",
   "metadata": {},
   "source": [
    "Question 2 (C) : propose an estimator ˜f : X → Y, different than the Bayes estimator\n",
    "and run a simulation that gives a statistical approximation of its generalization\n",
    "error (risque réel) by computing its empirical risk on a test set. Perform the same\n",
    "simulation also for f*, and verify that the generalization error is smaller for f∗ than\n",
    "for ˜f, and that your computation in question 1 was correct (the test error for f∗\n",
    "should be close to the Bayes risk if there is a sufficiently large number of samples)."
   ]
  },
  {
   "cell_type": "code",
   "execution_count": 4,
   "metadata": {},
   "outputs": [
    {
     "name": "stdout",
     "output_type": "stream",
     "text": [
      "Empirical risk for the Bayes estimator: 15995213.26876527\n",
      "Empirical risk for the bad estimator: 165570786.10571837\n",
      "Difference between empirical risk for bad estimator and bayes risk: 149570786.10571837\n",
      "Difference between empirical risk for bayes estimator and bayes risk: 4786.73123472929\n"
     ]
    }
   ],
   "source": [
    "y_pred_bayes = 1000 * X\n",
    "y_pred_bad = 1200 * X + rng.normal(loc=100, scale=1000, size=n_samples)\n",
    "risk_bayes = 4000**2\n",
    "\n",
    "# compute the empirical risk for the Bayes estimator\n",
    "empirical_risk_bayes = np.mean((y - y_pred_bayes)**2)\n",
    "\n",
    "# empirical risk bad estimator\n",
    "empirical_risk_bad_estimator = np.mean((y - y_pred_bad)**2)\n",
    "\n",
    "print(f\"Empirical risk for the Bayes estimator: {empirical_risk_bayes}\")\n",
    "print(f\"Empirical risk for the bad estimator: {empirical_risk_bad_estimator}\")\n",
    "print(f\"Difference between empirical risk for bad estimator and bayes risk: {abs(empirical_risk_bad_estimator - risk_bayes)}\")\n",
    "print(f\"Difference between empirical risk for bayes estimator and bayes risk: {abs(empirical_risk_bayes - risk_bayes)}\")\n"
   ]
  },
  {
   "attachments": {},
   "cell_type": "markdown",
   "metadata": {},
   "source": [
    "We can conclude that the Bayes estimator f* = 1000*x is the best estimator in terms of generalization error.\n"
   ]
  },
  {
   "attachments": {},
   "cell_type": "markdown",
   "metadata": {},
   "source": [
    "## 3 - Bayes risk with Absolute Loss"
   ]
  },
  {
   "attachments": {},
   "cell_type": "markdown",
   "metadata": {},
   "source": [
    "### Question 1 (M + C)"
   ]
  },
  {
   "cell_type": "code",
   "execution_count": 5,
   "metadata": {},
   "outputs": [],
   "source": [
    "# TODO"
   ]
  },
  {
   "attachments": {},
   "cell_type": "markdown",
   "metadata": {},
   "source": [
    "### Question 2 (M)"
   ]
  },
  {
   "attachments": {},
   "cell_type": "markdown",
   "metadata": {},
   "source": [
    "On donne\n",
    "$g(z) = \\int_{y\\in\\mathbb{R}}|y - z|p_{Y|X=x}(y)dy$ <br>\n",
    "\n",
    "$g(z) = \\int_{-\\infty}^z(z-y)p_{Y|X=x}(y)dy + \\int_{z}^{+\\infty}(y-z)p_{Y|X=x}(y)dy$ <br>\n",
    "\n",
    "</br>Pour trouver le minimum de $g$, on dérive par rapport à $z$ et on cherche $z$ tel que $\\frac{\\partial g(z)}{\\partial z} = 0$.<br>\n",
    "\n",
    "$\\frac{\\partial g(z)}{\\partial z} = \\int_{-\\infty}^z p_{Y|X=x}(y)dy - \\int_{z}^{+\\infty} p_{Y|X=x}(y)dy$ <br>\n",
    "\n",
    "$\\frac{\\partial g(z)}{\\partial z} = P(Y \\leq z\\ |\\ X=x) - P(Y \\geq z\\ |\\ X=x)$ <br>\n",
    "\n",
    "Nous avons donc $\\frac{\\partial g(z)}{\\partial z} = 0$ si $P(Y \\leq z\\ |\\ X=x) = P(Y \\geq z\\ |\\ X=x)$ <br>\n",
    "\n",
    "Par conséquent, $g(z)$ est minimum si $z$ est la médiane de $Y$ sachant $X=x$, soit $z = Med(Y\\ |\\ X=x)$.<br>\n",
    "\n",
    "Enfin, l'estimateur de Bayes associé à l'`absolute loss` est donc $$f^*(x) = Med(Y\\ |\\ X=x)$$"
   ]
  },
  {
   "attachments": {},
   "cell_type": "markdown",
   "metadata": {},
   "source": [
    "## 5 - Regression on a given dataset"
   ]
  },
  {
   "attachments": {},
   "cell_type": "markdown",
   "metadata": {},
   "source": [
    "### Loading the dataset"
   ]
  },
  {
   "cell_type": "code",
   "execution_count": 6,
   "metadata": {},
   "outputs": [],
   "source": [
    "# Training - Load the raw data and the associated labels\n",
    "X_train = np.load('./data/regression/X_train.npy')\n",
    "y_train = np.load('./data/regression/y_train.npy')\n",
    "\n",
    "# Testing - Similarly, the raw data and the associated labels\n",
    "X_test = np.load('./data/regression/X_test.npy')\n",
    "y_test = np.load('./data/regression/y_test.npy')"
   ]
  },
  {
   "attachments": {},
   "cell_type": "markdown",
   "metadata": {},
   "source": [
    "### Regression"
   ]
  },
  {
   "attachments": {},
   "cell_type": "markdown",
   "metadata": {},
   "source": [
    "#### Ridge"
   ]
  },
  {
   "attachments": {},
   "cell_type": "markdown",
   "metadata": {},
   "source": [
    "For the Ridge regression, we have to find the $\\lambda$ that minimizes the empirical risk. To that end, we use the Optunity library to find the best $\\lambda$ in a specific range. After finding the best value for the parameter, we use the `R2` score as a metric to evaluate the performance of the Ridge regression."
   ]
  },
  {
   "cell_type": "code",
   "execution_count": 7,
   "metadata": {},
   "outputs": [
    {
     "name": "stderr",
     "output_type": "stream",
     "text": [
      "[I 2023-06-16 17:12:22,659] A new study created in memory with name: no-name-b479e680-7198-4974-9b0e-9bd4aa16d4dc\n"
     ]
    },
    {
     "data": {
      "application/vnd.jupyter.widget-view+json": {
       "model_id": "7cfadd95f4e849dbafa6c026ce1daef7",
       "version_major": 2,
       "version_minor": 0
      },
      "text/plain": [
       "  0%|          | 0/500 [00:00<?, ?it/s]"
      ]
     },
     "metadata": {},
     "output_type": "display_data"
    },
    {
     "name": "stdout",
     "output_type": "stream",
     "text": [
      "{'alpha': 2.0791059515822896}\n",
      "0.5568448501248695\n"
     ]
    }
   ],
   "source": [
    "# Hyperparameter search with Optuna\n",
    "\n",
    "import optuna\n",
    "from sklearn.model_selection import cross_val_score, KFold\n",
    "\n",
    "def objective(trial):\n",
    "    # Define the hyperparameter configuration space for the Ridge regressor\n",
    "    alpha = trial.suggest_float('alpha', 1e-10, 1e5, log=True)\n",
    "\n",
    "    # Define the Ridge regressor\n",
    "    ridge_regressor = Ridge(alpha=alpha)\n",
    "\n",
    "    # Fit the model to the training data\n",
    "    ridge_regressor.fit(X_train, y_train)\n",
    "\n",
    "    # Define the cross-validation folds\n",
    "\n",
    "    cv = KFold(n_splits=5, shuffle=True, random_state=42)\n",
    "\n",
    "    # Evaluate the model\n",
    "    cross_validation_score = cross_val_score(ridge_regressor, X_train, y_train, cv=cv, n_jobs=-1).mean()\n",
    "\n",
    "    return cross_validation_score\n",
    "\n",
    "# Create a study object and optimize the objective function\n",
    "study = optuna.create_study(direction='maximize')\n",
    "\n",
    "optuna.logging.set_verbosity(optuna.logging.WARNING)\n",
    "\n",
    "# Start the optimization\n",
    "study.optimize(objective, n_trials=500, n_jobs=5, show_progress_bar=True)\n",
    "\n",
    "# Print the optimized parameter values\n",
    "print(study.best_params)\n",
    "print(study.best_value)"
   ]
  },
  {
   "cell_type": "code",
   "execution_count": 8,
   "metadata": {},
   "outputs": [
    {
     "name": "stdout",
     "output_type": "stream",
     "text": [
      "R2 score: 0.59\n"
     ]
    }
   ],
   "source": [
    "ridge = Ridge(**study.best_params)\n",
    "ridge.fit(X_train, y_train)\n",
    "y_pred = ridge.predict(X_test)\n",
    "r2 = r2_score(y_test, y_pred)\n",
    "print(f\"R2 score: {r2:.2f}\")"
   ]
  },
  {
   "attachments": {},
   "cell_type": "markdown",
   "metadata": {},
   "source": [
    "#### Lasso regression"
   ]
  },
  {
   "attachments": {},
   "cell_type": "markdown",
   "metadata": {},
   "source": [
    "We use the same approach as for the Ridge regression, applied to the Lasso regression. We also use the `R2` score as a metric to evaluate the performance of the Lasso regression."
   ]
  },
  {
   "cell_type": "code",
   "execution_count": 9,
   "metadata": {},
   "outputs": [
    {
     "data": {
      "application/vnd.jupyter.widget-view+json": {
       "model_id": "9de45d4cda0f4db499c571eb7b5ece95",
       "version_major": 2,
       "version_minor": 0
      },
      "text/plain": [
       "  0%|          | 0/500 [00:00<?, ?it/s]"
      ]
     },
     "metadata": {},
     "output_type": "display_data"
    },
    {
     "name": "stdout",
     "output_type": "stream",
     "text": [
      "{'alpha': 0.009024947659751856}\n",
      "0.8718602084528546\n"
     ]
    }
   ],
   "source": [
    "# Same with Lasso\n",
    "def objective(trial):\n",
    "    # Define the hyperparameter configuration space for the Lasso regressor\n",
    "    alpha = trial.suggest_float('alpha', 1e-10, 1e5, log=True)\n",
    "\n",
    "    # Define the Lasso regressor\n",
    "    lasso_regressor = Lasso(alpha=alpha, max_iter=10000, tol=1e-2)\n",
    "\n",
    "    # Fit the model to the training data\n",
    "    lasso_regressor.fit(X_train, y_train)\n",
    "\n",
    "    # Define the cross-validation folds\n",
    "\n",
    "    cv = KFold(n_splits=5, shuffle=True, random_state=42)\n",
    "\n",
    "    # Evaluate the model\n",
    "    cross_validation_score = cross_val_score(lasso_regressor, X_train, y_train, cv=cv, n_jobs=-1).mean()\n",
    "\n",
    "    return cross_validation_score\n",
    "\n",
    "# Create a study object and optimize the objective function\n",
    "study = optuna.create_study(direction='maximize')\n",
    "\n",
    "optuna.logging.set_verbosity(optuna.logging.ERROR)\n",
    "\n",
    "# Start the optimization\n",
    "study.optimize(objective, n_trials=500, n_jobs=5, show_progress_bar=True)\n",
    "\n",
    "# Print the optimized parameter values\n",
    "print(study.best_params)\n",
    "print(study.best_value)"
   ]
  },
  {
   "cell_type": "code",
   "execution_count": 10,
   "metadata": {},
   "outputs": [
    {
     "name": "stdout",
     "output_type": "stream",
     "text": [
      "R2 score: 0.88\n"
     ]
    }
   ],
   "source": [
    "lasso = Lasso(**study.best_params)\n",
    "lasso.fit(X_train, y_train)\n",
    "y_pred = lasso.predict(X_test)\n",
    "r2 = r2_score(y_test, y_pred)\n",
    "print(f\"R2 score: {r2:.2f}\")"
   ]
  },
  {
   "attachments": {},
   "cell_type": "markdown",
   "metadata": {},
   "source": [
    "<!-- random_forest_regressor =  -->"
   ]
  }
 ],
 "metadata": {
  "kernelspec": {
   "display_name": "Python 3",
   "language": "python",
   "name": "python3"
  },
  "language_info": {
   "codemirror_mode": {
    "name": "ipython",
    "version": 3
   },
   "file_extension": ".py",
   "mimetype": "text/x-python",
   "name": "python",
   "nbconvert_exporter": "python",
   "pygments_lexer": "ipython3",
   "version": "3.10.4"
  },
  "orig_nbformat": 4
 },
 "nbformat": 4,
 "nbformat_minor": 2
}
