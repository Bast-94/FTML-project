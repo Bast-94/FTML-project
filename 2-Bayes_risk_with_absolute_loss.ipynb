{
 "cells": [
  {
   "attachments": {},
   "cell_type": "markdown",
   "metadata": {},
   "source": [
    "## 2 - Bayes risk with Absolute Loss"
   ]
  },
  {
   "cell_type": "code",
   "execution_count": 1,
   "metadata": {},
   "outputs": [],
   "source": [
    "import numpy as np\n",
    "import matplotlib.pyplot as plt\n",
    "\n",
    "rng = np.random.default_rng()"
   ]
  },
  {
   "attachments": {},
   "cell_type": "markdown",
   "metadata": {},
   "source": [
    "Etant donné l'indépendance des questions 1 et 2, nous allons étudier premièrement la deuxième question qui vise à généraliser $f^*$  avec l'`absolute loss` $l_1$"
   ]
  },
  {
   "attachments": {},
   "cell_type": "markdown",
   "metadata": {},
   "source": [
    "### **Question 2 (M)**"
   ]
  },
  {
   "attachments": {},
   "cell_type": "markdown",
   "metadata": {},
   "source": [
    "On donne\n",
    "$g(z) = \\int_{y\\in\\mathbb{R}}|y - z|p_{Y|X=x}(y)dy$ <br>\n",
    "\n",
    "$g(z) = \\int_{-\\infty}^z(z-y)p_{Y|X=x}(y)dy + \\int_{z}^{+\\infty}(y-z)p_{Y|X=x}(y)dy$ <br>\n",
    "\n",
    "</br>Pour trouver le minimum de $g$, on dérive par rapport à $z$ et on cherche $z$ tel que $\\frac{\\partial g(z)}{\\partial z} = 0$.<br>\n",
    "\n",
    "$g(z) =z\\int_{-\\infty}^z  P_{Y|X=x}(y)dy - \\int_{-\\infty}^z y P_{Y|X=x}(y)dy+\\int_{z}^{+\\infty} y P_{Y|X=x}(y)dy-z\\int_{z}^{+\\infty}  P_{Y|X=x}(y)dy$\n",
    "\n",
    "$\\frac{\\partial g(z)}{\\partial z}=\\int_{-\\infty}^z  P_{Y|X=x}(y)dy+zP_{Y|X=x}(z)-zP_{Y|X=x}(z)-zP_{Y|X=x}(z)-\\int_{z}^{+\\infty}  P_{Y|X=x}(y)dy+zP_{Y|X=x}(z)$\n",
    "\n",
    "$\\frac{\\partial g(z)}{\\partial z}=\\int_{-\\infty}^z P_{Y|X=x}(y)dy-\\int_{z}^\\infty P_{Y|X=x}(y)dy$\n",
    "\n",
    "$\\frac{\\partial g(z)}{\\partial z}=P(Y\\le z | X=x) - P(Y\\ge z | X=x)$\n",
    "\n",
    "$\\frac{\\partial g(z)}{\\partial z}=P(Y\\le z | X=x) - (1-P(Y\\le z | X=x))$\n",
    "\n",
    "$\\frac{\\partial g(z)}{\\partial z}=2P(Y\\le z | X=x) - 1$\n"
   ]
  },
  {
   "attachments": {},
   "cell_type": "markdown",
   "metadata": {},
   "source": [
    "\n",
    "$\\frac{\\partial g(z)}{\\partial z}=0 \\implies 2P(Y\\le z | X=x) - 1 \\implies P(Y\\le z | X=x)=\\frac{1}{2}$<br>\n",
    "On a alors $\\frac{\\partial g(z_0)}{\\partial z}=0$  pour $z_0=Med(Y|X=x)$ <br>\n",
    "\n",
    "$2P(Y\\le z | X=x) - 1$ est une fonction strictement croissante car $P(Y\\le z | X=x)$ est une fonction de répartition.<br>\n",
    "Donc $\\frac{\\partial g(z)}{\\partial z}$ est croissante on a alors:\n",
    "- $\\forall z\\lt z_0, \\frac{\\partial g(z)}{\\partial z} \\lt 0 \\implies g$ décroissante sur $]-\\infty,z_0[$ <br>\n",
    "    Ainsi $\\forall z\\lt z_0, g(z) > g(z_0)$ $(i)$\n",
    "- $\\forall z\\gt z_0, \\frac{\\partial g(z)}{\\partial z} \\gt 0 \\implies g$ croissante sur $]z_0,+\\infty[$  <br>\n",
    "    Ainsi $\\forall z\\gt z_0, g(z) > g(z_0)$ $(ii)$\n",
    "\n",
    "D'après $(i)$ et $(ii)$ $z_0=Med(Y|X=x)$ minimise g(z) <br>\n",
    "\n",
    "\n",
    "Enfin, l'estimateur de Bayes associé à l'`absolute loss` est donc $$f^*(x) = Med(Y\\ |\\ X=x)$$"
   ]
  },
  {
   "attachments": {},
   "cell_type": "markdown",
   "metadata": {},
   "source": [
    "### **Question 1 (M + C)**"
   ]
  },
  {
   "attachments": {},
   "cell_type": "markdown",
   "metadata": {},
   "source": [
    "Propose a setting where the Bayes predictor is different for\n",
    "the square loss and for the absolute loss, and compute the value of both. Run si-\n",
    "mulations that verify your results by approximating the Bayes risks for both losses\n",
    "with empirical test errors, as in section"
   ]
  },
  {
   "attachments": {},
   "cell_type": "markdown",
   "metadata": {},
   "source": [
    "On propose $X\\sim \\mathcal{U}_{\\{ 1 ... k \\} }$ une loi discrète uniforme sur $k \\in \\mathbb{N}^*$\n",
    "et \n",
    "$Y|X=x \\sim \\mathcal{E}(\\lambda = \\frac{1}{x})$"
   ]
  },
  {
   "attachments": {},
   "cell_type": "markdown",
   "metadata": {},
   "source": [
    "- D'après l'énoncé  $f^*(x)=E[Y|=x]$ lorsque la loss se calcule avec $l_{2}$\n",
    "- D'après le résultat de la question 2 on a $f^*(x)=Med(Y|X=x)$ lorsque la loss se calcule avec $l_{1}$"
   ]
  },
  {
   "attachments": {},
   "cell_type": "markdown",
   "metadata": {},
   "source": [
    "On a  $Y|X=x \\sim \\mathcal{E}(\\lambda = \\frac{1}{x})$\n",
    "\n",
    "Pour $Z\\sim \\mathcal{E}(\\lambda_{Z})$\n",
    "- $Med(Z) = \\frac{ln(2)}{\\lambda_{Z}}$ \n",
    "- $E[Z] =  \\frac{1}{\\lambda_{Z}}$\n",
    "\n",
    "## Risque Bayesien $R_{l_1}^*$ \n",
    "\n",
    "Pour l'absolute loss $l_1$ $f_{l_1}^*(x) = Med(Y|X=x)=\\frac{ln(2)}{\\frac{1}{x}} = ln(2)x$ <br>\n",
    "\n",
    "$R_{l_1}^*=E_{X,Y}[l(Y,f^*(X))]$ <br>\n",
    "$R_{l_1}^*=E_{X}[E_Y[\\ l(Y,f^*(X))|X]\\ ]$ <br>\n",
    "$R_{l_1}^*=E_{X}[E_Y[\\ |Y-f^*(X)| \\ |X]\\ ]$ <br>\n",
    "$R_{l_1}^*=E_{X}[E_Y[\\ |Y-Med(Y|X)| \\ |X]\\ ]$ <br>\n"
   ]
  },
  {
   "attachments": {},
   "cell_type": "markdown",
   "metadata": {},
   "source": [
    "\n",
    "$m=Med(Y|X=x)=ln(2)x$<br>\n",
    "$E_Y[\\ |Y-m| \\ |X=x]\\ ] = $ <br>\n",
    "$E_Y[\\ |Y-m| \\ |X=x]\\ ] =-\\int_{-\\infty}^m (y-m)P_{Y|X=x}(y)dy+\\int_{m}^\\infty (y-m)P_{Y|X=x}(y)dy$<br>\n",
    "$E_Y[\\ |Y-m| \\ |X=x]\\ ] =m(\\int_{-\\infty}^m P_{Y|X=x}(y)dy-\\int_{m}^{+\\infty} P_{Y|X=x}(y)dy) - \\int_{-\\infty}^m yP_{Y|X=x}(y)dy+\\int_{m}^{+\\infty} yP_{Y|X=x}(y)dy$<br>\n"
   ]
  },
  {
   "attachments": {},
   "cell_type": "markdown",
   "metadata": {},
   "source": [
    "$m(\\int_{-\\infty}^m P_{Y|X=x}(y)dy-\\int_{m}^{+\\infty} P_{Y|X=x}(y)dy) = m(P(Y \\lt m|X=x) - P(Y \\gt m|X=x)) = 0$ car $m$ est la médiane<br>"
   ]
  },
  {
   "attachments": {},
   "cell_type": "markdown",
   "metadata": {},
   "source": [
    "\n",
    "$E_Y[\\ |Y-m| \\ |X=x]\\ ] = - \\int_{-\\infty}^m yP_{Y|X=x}(y)dy+\\int_{m}^{+\\infty} yP_{Y|X=x}(y)dy$<br>\n",
    "$E_Y[\\ |Y-m| \\ |X=x]\\ ] = E[Y|x=x]- 2\\int_{-\\infty}^m yP_{Y|X=x}(y)dy$<br>\n",
    "$E_Y[\\ |Y-m| \\ |X=x]\\ ] = E[Y|x=x]- 2\\int_{-\\infty}^m yP_{Y|X=x}(y)dy$<br>\n"
   ]
  },
  {
   "attachments": {},
   "cell_type": "markdown",
   "metadata": {},
   "source": [
    "\n",
    "$\\int_{-\\infty}^m yP_{Y|X=x}(y)dy=\\int_{0}^m yP_{Y|X=x}(y)dy$ car $y<0 \\implies P_{Y|X=x}(y)=0$<br>\n",
    "$\\int_{0}^m yP_{Y|X=x}(y)dy=\\int_{0}^m \\lambda y e^{-\\lambda y}dy$<br>\n",
    "$\\int_{0}^m \\lambda y e^{-\\lambda y}dy=$\n"
   ]
  },
  {
   "attachments": {},
   "cell_type": "markdown",
   "metadata": {},
   "source": [
    "\n",
    "$\\left[ -y e^{-\\lambda y} - \\frac{1}{\\lambda}e^{-\\lambda y}\\right]_0^m$<br>\n",
    "$\\left[ -y e^{-\\lambda y} - \\frac{1}{\\lambda}e^{-\\lambda y}\\right]_0^m=\\left[ -e^{-\\lambda y}(y+\\frac{1}{\\lambda})\\right]_0^m$<br>\n",
    "$\\left[ -e^{-\\lambda y}(y+\\frac{1}{\\lambda})\\right]_0^m=-e^{-\\lambda m}(m+\\frac{1}{\\lambda})+\\frac{1}{\\lambda}$<br>\n"
   ]
  },
  {
   "attachments": {},
   "cell_type": "markdown",
   "metadata": {},
   "source": [
    "$m=\\frac{ln(2)}{\\lambda}=ln(2)x \\implies e^{-\\lambda m}=\\frac{1}{2}$<br>\n",
    "$\\lambda=\\frac{1}{x}$<br>\n"
   ]
  },
  {
   "attachments": {},
   "cell_type": "markdown",
   "metadata": {},
   "source": [
    "$-e^{-\\lambda m}(m+\\frac{1}{\\lambda})+\\frac{1}{\\lambda}=-\\frac{1}{2}(ln(2)x+x)+x=\\frac{x}{2}(1-ln(2))$<br>\n",
    "$\\int_{-\\infty}^m yP_{Y|X=x}(y)dy = \\frac{x}{2}(1-ln(2))$<br>\n"
   ]
  },
  {
   "attachments": {},
   "cell_type": "markdown",
   "metadata": {},
   "source": [
    "\n",
    "$E_Y[\\ |Y-m| \\ |X=x]\\ ]= E[Y|x=x]- 2\\int_{-\\infty}^m yP_{Y|X=x}(y)dy=x-2(\\frac{x}{2}(1-ln(2)))=ln(2)x$\n",
    "\n",
    "$R_{l_1}^*=E_{X}[E_Y[\\ |Y-Med(Y|X)| \\ |X]\\ ]=E_{X}[ln(2)X]=ln(2)E_{X}[X]=ln(2)\\frac{k+1}{2}$\n",
    "\n",
    "Ainsi pour $l_1$ on a $R_{l_1}^*=ln(2)\\frac{k+1}{2}$"
   ]
  },
  {
   "attachments": {},
   "cell_type": "markdown",
   "metadata": {},
   "source": [
    "\n",
    "## Risque Bayesien pour $l_2$\n",
    "Pour la squared loss $l_2$ $f^*(x)= E[Y|=x] =\\frac{1}{\\frac{1}{x}} = x$ <br>\n",
    "$R_{l_2}^*=E_{X,Y}[l(Y,f^*(X))]$ <br>\n",
    "$R_{l_2}^*=E_{X}[E_Y[\\ l(Y,f^*(X))|X]\\ ]$ <br>\n",
    "$R_{l_2}^*=E_{X}[E_Y[\\ (Y-f^*(X))^2|X]\\ ]$ <br>\n",
    "$E_Y[\\ (Y-f^*(X))^2|X]=E_Y[\\ (Y-E[Y|X])^2|X]$ <br>\n",
    "Dans cette expression nous observons une formule de la forme $E[(Z-E[Z])^2]$ qui correspond à $V(Z)$ \n",
    "\n",
    "On a donc $E_Y[\\ (Y-E[Y|X])^2|X]=E_{X}[V[\\ Y\\ |\\ X] ]$ Qui correspond à la variance conditionnelle de $Y|X$\n"
   ]
  },
  {
   "attachments": {},
   "cell_type": "markdown",
   "metadata": {},
   "source": [
    "Ainsi $R_{l_2}^*=E_{X}[V_Y[Y|X] ]$ pour $l=l_2$<br>\n",
    "Dans notre cas $E_{X}[V_Y[Y|X] ]$ vaut $\\sum_{i=1}^kV(Y|X=x_i)*P(X=x_i)$ <br>\n",
    "$\\forall i \\in [1,k]:$\n",
    "- $P(X=x_i)=\\frac{1}{k}$<br>\n",
    "-  $x_i=i$<br>"
   ]
  },
  {
   "attachments": {},
   "cell_type": "markdown",
   "metadata": {},
   "source": [
    "\n",
    "$Y|X=x \\sim \\mathcal{E}(\\lambda = \\frac{1}{x})$ donc $V(Y|X=i)=i^2$<br>\n",
    "Ainsi<br>\n",
    "$R_{l_2}^*=E_{X}[V_Y[Y|X] ] =\\frac{1}{k}\\sum_{i=1}^{k}i^2=\\sum_{i=1}^{k} i^2 = \\frac{1}{k}\\frac{k(k+1)(2k+1)}{6}=\\frac{(k+1)(2k+1)}{6}$<br>\n",
    "Ainsi $R_{l_2}^*=\\frac{(k+1)(k+1)}{6}$<br>\n"
   ]
  },
  {
   "attachments": {},
   "cell_type": "markdown",
   "metadata": {},
   "source": [
    "On a donc  $R_{l_1}^*=ln(2)\\frac{k+1}{2}$ et $R_{l_2}^*=\\frac{(k+1)(2k+1)}{6}$ "
   ]
  },
  {
   "attachments": {},
   "cell_type": "markdown",
   "metadata": {},
   "source": [
    "## Lancement de la simulation et calcul du risque empirique $R_n$"
   ]
  },
  {
   "cell_type": "code",
   "execution_count": 2,
   "metadata": {},
   "outputs": [
    {
     "name": "stdout",
     "output_type": "stream",
     "text": [
      "Risque Bayesien pour l1 9.011\n",
      "Risque empirique pour l1 9.006\n",
      "Différence entre le risque empirique et le risque Bayesien:0.005\n",
      "-----\n",
      "Risque Bayesien pour l1 221.000\n",
      "Risque empirique pour l2 220.543\n",
      "Différence entre le risque empirique et le risque Bayesien:0.457\n"
     ]
    },
    {
     "data": {
      "image/png": "[encoded data removed]",
      "text/plain": [
       "<Figure size 1440x720 with 1 Axes>"
      ]
     },
     "metadata": {
      "needs_background": "light"
     },
     "output_type": "display_data"
    },
    {
     "data": {
      "text/plain": [
       "(9.010913347279288, 9.005807609977627, 221.0, 220.54264525709652)"
      ]
     },
     "execution_count": 2,
     "metadata": {},
     "output_type": "execute_result"
    }
   ],
   "source": [
    "def make_simulation(\n",
    "    k=500, n_samples=int(1e6), n_samples_to_display=1000, display=False\n",
    ") -> None:\n",
    "    X = np.random.randint(low=1, high=k + 1, size=n_samples)\n",
    "    y = rng.exponential(scale=X)  # X car pour exponential  scale = 1/lambda\n",
    "\n",
    "    estimator_l1 = lambda x: np.log(2) * x\n",
    "    empirical_risk_l1 = np.mean(np.abs(y - estimator_l1(X)))\n",
    "    r_star_l1 = np.log(2) * ((k + 1) / 2)\n",
    "\n",
    "    estimator_l2 = lambda x: x\n",
    "    empirical_risk_l2 = np.mean((y - estimator_l2(X)) ** 2)\n",
    "    r_star_l2 = (k + 1) * (2 * k + 1) / 6\n",
    "    if display:\n",
    "        fig, (graph_ax) = plt.subplots(nrows=1, ncols=1, figsize=(20, 10))\n",
    "        print(f\"Risque Bayesien pour l1 {r_star_l1:.3f}\")\n",
    "        print(f\"Risque empirique pour l1 {empirical_risk_l1:.3f}\")\n",
    "        print(\n",
    "            f\"Différence entre le risque empirique et le risque Bayesien:{np.abs(r_star_l1 - empirical_risk_l1):.3f}\"\n",
    "        )\n",
    "        print(\"-----\")\n",
    "        print(f\"Risque Bayesien pour l1 {r_star_l2 :.3f}\")\n",
    "        print(f\"Risque empirique pour l2 {empirical_risk_l2:.3f}\")\n",
    "        print(\n",
    "            f\"Différence entre le risque empirique et le risque Bayesien:{np.abs(r_star_l2 - empirical_risk_l2):.3f}\"\n",
    "        )\n",
    "        title = \"$ X \\sim \\mathcal{U}_{\\{1...k\\}}$\"\n",
    "        graph_ax.set_title(\n",
    "            f\"Simulation pour {title} avec $k$={k}\", fontdict={\"fontsize\": 20}\n",
    "        )\n",
    "        graph_ax.plot(X[:n_samples_to_display], y[:n_samples_to_display], \"x\")\n",
    "        plt.show()\n",
    "    return r_star_l1, empirical_risk_l1, r_star_l2, empirical_risk_l2\n",
    "\n",
    "\n",
    "make_simulation(k=25, n_samples=int(1e7), n_samples_to_display=200, display=True)"
   ]
  },
  {
   "attachments": {},
   "cell_type": "markdown",
   "metadata": {},
   "source": [
    "On peut remarquer que les risques empiriques se rapprochent des risques Bayesiens expliqués antérieurement."
   ]
  },
  {
   "attachments": {},
   "cell_type": "markdown",
   "metadata": {},
   "source": [
    "Cherchons maintenant à comparer les risques empiriques et Bayesiens pour plusieurs valeurs de $k$ "
   ]
  },
  {
   "cell_type": "code",
   "execution_count": 24,
   "metadata": {},
   "outputs": [
    {
     "name": "stdout",
     "output_type": "stream",
     "text": [
      "[[2.07944154e+00 2.07975374e+00 1.10000000e+01 1.10167824e+01]\n",
      " [3.81230949e+00 3.81176754e+00 3.85000000e+01 3.85051278e+01]\n",
      " [7.27804540e+00 7.27312318e+00 1.43500000e+02 1.43442254e+02]\n",
      " [1.76752531e+01 1.76813653e+01 8.58500000e+02 8.59614505e+02]\n",
      " [3.50039326e+01 3.49850652e+01 3.38350000e+03 3.37615192e+03]\n",
      " [1.73633369e+02 1.73614034e+02 8.35835000e+04 8.35148782e+04]\n",
      " [3.46920164e+02 3.46683272e+02 3.33833500e+05 3.33626584e+05]\n",
      " [3.46577056e+04 3.46343902e+04 3.33338333e+09 3.33020413e+09]]\n"
     ]
    }
   ],
   "source": [
    "k_list = [5, 10, 20, 50, 100, 500, 1000, int(1e5)]\n",
    "\n",
    "risks_list = []\n",
    "for k in k_list:\n",
    "    risks_list.append(\n",
    "        make_simulation(k=k, n_samples=int(1e7), n_samples_to_display=200)\n",
    "    )\n",
    "\n",
    "risks = np.asarray(risks_list)\n",
    "print(risks)"
   ]
  },
  {
   "cell_type": "code",
   "execution_count": 25,
   "metadata": {},
   "outputs": [
    {
     "data": {
      "image/png": "[encoded data removed]",
      "text/plain": [
       "<Figure size 720x720 with 1 Axes>"
      ]
     },
     "metadata": {
      "needs_background": "light"
     },
     "output_type": "display_data"
    }
   ],
   "source": [
    "fig, axs = plt.subplots(nrows=1, ncols=1, figsize=(10, 10))\n",
    "label_list = [\"r_star_l1\", \"empirical_risk_l1\", \"r_star_l2\", \"empirical_risk_l2\"]\n",
    "for i, label in enumerate(label_list):\n",
    "    # axs.plot(k_list,risks[:,i],label= label)\n",
    "    break\n",
    "axs.plot(\n",
    "    k_list,\n",
    "    risks[:, 0] - risks[:, 1],\n",
    "    label=\"Différence entre $R_{l_1}^*$ et ${R_n}_{l_1}^*$\",\n",
    ")\n",
    "axs.plot(\n",
    "    k_list,\n",
    "    risks[:, 2] - risks[:, 3],\n",
    "    label=\"Différence entre $R_{l_2}^*$ et ${R_n}_{l_2}^*$\",\n",
    ")\n",
    "axs.set_xscale(\"log\")\n",
    "# axs.set_yscale(\"log\")\n",
    "axs.set_xlabel(\"Valeurs de $k$\")\n",
    "axs.set_ylabel(\"Risques\")\n",
    "axs.legend()\n",
    "plt.show()"
   ]
  },
  {
   "cell_type": "code",
   "execution_count": null,
   "metadata": {},
   "outputs": [],
   "source": []
  }
 ],
 "metadata": {
  "kernelspec": {
   "display_name": "Python 3.10.9 64-bit",
   "language": "python",
   "name": "python3"
  },
  "language_info": {
   "codemirror_mode": {
    "name": "ipython",
    "version": 3
   },
   "file_extension": ".py",
   "mimetype": "text/x-python",
   "name": "python",
   "nbconvert_exporter": "python",
   "pygments_lexer": "ipython3",
   "version": "3.10.6"
  },
  "orig_nbformat": 4,
  "vscode": {
   "interpreter": {
    "hash": "3fe098a60de41da4d418149dd85333239847aa92272c8f79d3c6f03653219927"
   }
  }
 },
 "nbformat": 4,
 "nbformat_minor": 2
}
