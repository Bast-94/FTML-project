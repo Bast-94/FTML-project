{
 "cells": [
  {
   "attachments": {},
   "cell_type": "markdown",
   "metadata": {},
   "source": [
    "## 2 - Bayes risk with Absolute Loss"
   ]
  },
  {
   "cell_type": "code",
   "execution_count": 1,
   "metadata": {},
   "outputs": [],
   "source": [
    "import numpy as np\n",
    "import matplotlib.pyplot as plt\n",
    "\n",
    "rng = np.random.default_rng()"
   ]
  },
  {
   "attachments": {},
   "cell_type": "markdown",
   "metadata": {},
   "source": [
    "Etant donné l'indépendance des questions 1 et 2, nous allons étudier premièrement la deuxième question qui vise à généraliser $f^*$  avec l'`absolute loss` $l_1$"
   ]
  },
  {
   "attachments": {},
   "cell_type": "markdown",
   "metadata": {},
   "source": [
    "### **Question 2 (M)**"
   ]
  },
  {
   "attachments": {},
   "cell_type": "markdown",
   "metadata": {},
   "source": [
    "On donne\n",
    "$g(z) = \\int_{y\\in\\mathbb{R}}|y - z|p_{Y|X=x}(y)dy$ <br>\n",
    "\n",
    "$g(z) = \\int_{-\\infty}^z(z-y)p_{Y|X=x}(y)dy + \\int_{z}^{+\\infty}(y-z)p_{Y|X=x}(y)dy$ <br>\n",
    "\n",
    "</br>Pour trouver le minimum de $g$, on dérive par rapport à $z$ et on cherche $z$ tel que $\\frac{\\partial g(z)}{\\partial z} = 0$.<br>\n",
    "\n",
    "$g(z) =z\\int_{-\\infty}^z  P_{Y|X=x}(y)dy - \\int_{-\\infty}^z y P_{Y|X=x}(y)dy+\\int_{z}^{+\\infty} y P_{Y|X=x}(y)dy-z\\int_{z}^{+\\infty}  P_{Y|X=x}(y)dy$\n",
    "\n",
    "$\\frac{\\partial g(z)}{\\partial z}=\\int_{-\\infty}^z  P_{Y|X=x}(y)dy+zP_{Y|X=x}(z)-zP_{Y|X=x}(z)-zP_{Y|X=x}(z)-\\int_{z}^{+\\infty}  P_{Y|X=x}(y)dy+zP_{Y|X=x}(z)$\n",
    "\n",
    "$\\frac{\\partial g(z)}{\\partial z}=\\int_{-\\infty}^z P_{Y|X=x}(y)dy-\\int_{z}^\\infty P_{Y|X=x}(y)dy$\n",
    "\n",
    "$\\frac{\\partial g(z)}{\\partial z}=P(Y\\le z | X=x) - P(Y\\ge z | X=x)$\n",
    "\n",
    "$\\frac{\\partial g(z)}{\\partial z}=P(Y\\le z | X=x) - (1-P(Y\\le z | X=x))$\n",
    "\n",
    "$\\frac{\\partial g(z)}{\\partial z}=2P(Y\\le z | X=x) - 1$\n"
   ]
  },
  {
   "attachments": {},
   "cell_type": "markdown",
   "metadata": {},
   "source": [
    "\n",
    "$\\frac{\\partial g(z)}{\\partial z}=0 \\implies 2P(Y\\le z | X=x) - 1 \\implies P(Y\\le z | X=x)=\\frac{1}{2}$<br>\n",
    "On a alors $\\frac{\\partial g(z_0)}{\\partial z}=0$  pour $z_0=Med(Y|X=x)$ <br>\n",
    "\n",
    "$2P(Y\\le z | X=x) - 1$ est une fonction strictement croissante car $P(Y\\le z | X=x)$ est une fonction de répartition.<br>\n",
    "Donc $\\frac{\\partial g(z)}{\\partial z}$ est croissante on a alors:\n",
    "- $\\forall z\\lt z_0, \\frac{\\partial g(z)}{\\partial z} \\lt 0 \\implies g$ décroissante sur $]-\\infty,z_0[$ <br>\n",
    "    Ainsi $\\forall z\\lt z_0, g(z) > g(z_0)$ $(i)$\n",
    "- $\\forall z\\gt z_0, \\frac{\\partial g(z)}{\\partial z} \\gt 0 \\implies g$ croissante sur $]z_0,+\\infty[$  <br>\n",
    "    Ainsi $\\forall z\\gt z_0, g(z) > g(z_0)$ $(ii)$\n",
    "\n",
    "D'après $(i)$ et $(ii)$ $z_0=Med(Y|X=x)$ minimise g(z) <br>\n",
    "\n",
    "\n",
    "Enfin, l'estimateur de Bayes associé à l'`absolute loss` est donc $$f^*(x) = Med(Y\\ |\\ X=x)$$"
   ]
  },
  {
   "attachments": {},
   "cell_type": "markdown",
   "metadata": {},
   "source": [
    "### **Question 1 (M + C)**"
   ]
  },
  {
   "attachments": {},
   "cell_type": "markdown",
   "metadata": {},
   "source": [
    "Propose a setting where the Bayes predictor is different for\n",
    "the square loss and for the absolute loss, and compute the value of both. Run si-\n",
    "mulations that verify your results by approximating the Bayes risks for both losses\n",
    "with empirical test errors, as in section"
   ]
  },
  {
   "attachments": {},
   "cell_type": "markdown",
   "metadata": {},
   "source": [
    "On propose $X\\sim \\mathcal{U}_{[a,b]}$ une loi discrète\n",
    "et \n",
    "$Y|X=x \\sim \\mathcal{E}(\\lambda = \\frac{1}{x})$\n",
    "\n",
    "Dans notre cas $a=1,b=6$"
   ]
  },
  {
   "cell_type": "code",
   "execution_count": 65,
   "metadata": {},
   "outputs": [
    {
     "data": {
      "text/plain": [
       "[<matplotlib.lines.Line2D at 0x7f53af99e320>]"
      ]
     },
     "execution_count": 65,
     "metadata": {},
     "output_type": "execute_result"
    },
    {
     "data": {
      "image/png": "[encoded data removed]",
      "text/plain": [
       "<Figure size 432x288 with 1 Axes>"
      ]
     },
     "metadata": {
      "needs_background": "light"
     },
     "output_type": "display_data"
    }
   ],
   "source": [
    "a = 1\n",
    "b = 2\n",
    "\n",
    "n_samples = int(1e6)\n",
    "epsilon = 150\n",
    "X = np.random.randint(low=a, high=b + 1, size=n_samples)\n",
    "\n",
    "y = rng.exponential(scale=X)  # X car pour exponential  scale = 1/lambda\n",
    "n_samples_to_display = 1000\n",
    "plt.plot(X[:n_samples_to_display], y[:n_samples_to_display], \"x\")"
   ]
  },
  {
   "attachments": {},
   "cell_type": "markdown",
   "metadata": {},
   "source": [
    "- D'après l'énoncé  $f^*(x)=E[Y|=x]$ lorsque la loss se calcule avec $l_{2}$\n",
    "- D'après le résultat de la question 2 on a $f^*(x)=Med(Y|X=x)$ lorsque la loss se calcule avec $l_{1}$"
   ]
  },
  {
   "attachments": {},
   "cell_type": "markdown",
   "metadata": {},
   "source": [
    "On a  $Y|X=x \\sim \\mathcal{E}(\\lambda = \\frac{1}{x})$\n",
    "\n",
    "Pour $Z\\sim \\mathcal{E}(\\lambda_{Z})$\n",
    "- $Med(Z) = \\frac{ln(2)}{\\lambda_{Z}}$ \n",
    "- $E[Z] =  \\frac{1}{\\lambda_{Z}}$\n",
    "\n",
    "Nous aurons donc les prédicteur de Bayes suivants:\n",
    "\n",
    "Pour l'absolute loss $l_1$ $f^*(x) = Med(Y|X=x)=\\frac{ln(2)}{\\frac{1}{x}} = ln(2)x$ <br>\n",
    "Pour la squared loss $l_2$ $f^*(x)= E[Y|=x] =\\frac{1}{\\frac{1}{x}} = x$ \n"
   ]
  },
  {
   "attachments": {},
   "cell_type": "markdown",
   "metadata": {},
   "source": [
    "Cherchons l'expression du risque de Bayes $R^*$:\n",
    "On a $R^*=E_{X,Y}[l(Y,f^*(X))]$ \n",
    "Pour l'absolute loss $l_1$ $R^* = E_X[ln(2){X}]=ln(2)E_X[{X}]=ln(2)*3.5 \\approx 2.42$ <br>\n",
    "Pour la squared loss $l_2$ $R^* = E_X[{X}]=3.5$ "
   ]
  },
  {
   "attachments": {},
   "cell_type": "markdown",
   "metadata": {},
   "source": [
    "Calcul des risques $R_n$ pour $l_1$ et $l_2$"
   ]
  },
  {
   "cell_type": "code",
   "execution_count": 68,
   "metadata": {},
   "outputs": [
    {
     "data": {
      "text/plain": [
       "1.499988"
      ]
     },
     "execution_count": 68,
     "metadata": {},
     "output_type": "execute_result"
    }
   ],
   "source": []
  },
  {
   "cell_type": "code",
   "execution_count": 71,
   "metadata": {},
   "outputs": [
    {
     "name": "stdout",
     "output_type": "stream",
     "text": [
      "Risque empirique pour l1 1.0381883937647698\n",
      "Risque empirique pour l2 2.4946148126820504\n"
     ]
    }
   ],
   "source": [
    "estimator_l1 = lambda x: np.log(2) * x\n",
    "empirical_risk_l1 = np.mean(np.abs(y - estimator_l1(X)))\n",
    "print(f\"Risque empirique pour l1 {empirical_risk_l1}\")\n",
    "estimator_l2 = lambda x: x\n",
    "empirical_risk_l2 = np.mean((y - estimator_l2(X)) ** 2)\n",
    "print(f\"Risque empirique pour l2 {empirical_risk_l2}\")"
   ]
  }
 ],
 "metadata": {
  "kernelspec": {
   "display_name": "Python 3.10.9 64-bit",
   "language": "python",
   "name": "python3"
  },
  "language_info": {
   "codemirror_mode": {
    "name": "ipython",
    "version": 3
   },
   "file_extension": ".py",
   "mimetype": "text/x-python",
   "name": "python",
   "nbconvert_exporter": "python",
   "pygments_lexer": "ipython3",
   "version": "3.10.6"
  },
  "orig_nbformat": 4,
  "vscode": {
   "interpreter": {
    "hash": "3fe098a60de41da4d418149dd85333239847aa92272c8f79d3c6f03653219927"
   }
  }
 },
 "nbformat": 4,
 "nbformat_minor": 2
}
