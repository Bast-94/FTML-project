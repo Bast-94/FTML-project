{
 "cells": [
  {
   "attachments": {},
   "cell_type": "markdown",
   "metadata": {},
   "source": [
    "# 5 - Classification on a given dataset"
   ]
  },
  {
   "attachments": {},
   "cell_type": "markdown",
   "metadata": {},
   "source": [
    "### Imports"
   ]
  },
  {
   "cell_type": "code",
   "execution_count": 1,
   "metadata": {},
   "outputs": [],
   "source": [
    "import numpy as np\n",
    "import matplotlib.pyplot as plt\n",
    "\n",
    "import optuna\n",
    "from optuna.samplers import TPESampler\n",
    "\n",
    "from sklearn.preprocessing import StandardScaler\n",
    "from sklearn.ensemble import RandomForestClassifier, GradientBoostingClassifier\n",
    "from sklearn.svm import SVC\n",
    "from sklearn.linear_model import LogisticRegression\n",
    "from sklearn.neighbors import KNeighborsClassifier\n",
    "\n",
    "from sklearn.metrics import accuracy_score\n",
    "from sklearn.model_selection import cross_val_score, KFold"
   ]
  },
  {
   "attachments": {},
   "cell_type": "markdown",
   "metadata": {},
   "source": [
    "### Loading the dataset"
   ]
  },
  {
   "cell_type": "code",
   "execution_count": 2,
   "metadata": {},
   "outputs": [
    {
     "data": {
      "image/png": "[encoded data removed]",
      "text/plain": [
       "<Figure size 640x480 with 1 Axes>"
      ]
     },
     "metadata": {},
     "output_type": "display_data"
    }
   ],
   "source": [
    "# Training - Load the raw data and the associated labels\n",
    "X_train = np.load('./data/classification/X_train.npy')\n",
    "y_train = np.load('./data/classification/y_train.npy')\n",
    "\n",
    "# Testing - Similarly, the raw data and the associated labels\n",
    "X_test = np.load('./data/classification/X_test.npy')\n",
    "y_test = np.load('./data/classification/y_test.npy')\n",
    "\n",
    "# Plot the distribution of the labels\n",
    "plt.hist(y_train, bins=10)\n",
    "plt.show()"
   ]
  },
  {
   "attachments": {},
   "cell_type": "markdown",
   "metadata": {},
   "source": [
    "## Classification"
   ]
  },
  {
   "attachments": {},
   "cell_type": "markdown",
   "metadata": {},
   "source": [
    "### Data preprocessing"
   ]
  },
  {
   "attachments": {},
   "cell_type": "markdown",
   "metadata": {},
   "source": [
    "In order to rescale our data in a certain range, we use the StandardScaler from sklearn."
   ]
  },
  {
   "cell_type": "code",
   "execution_count": 3,
   "metadata": {},
   "outputs": [],
   "source": [
    "X_train = StandardScaler().fit_transform(X_train)\n",
    "X_test = StandardScaler().fit_transform(X_test)"
   ]
  },
  {
   "cell_type": "code",
   "execution_count": 4,
   "metadata": {},
   "outputs": [],
   "source": [
    "!rm *.db"
   ]
  },
  {
   "attachments": {},
   "cell_type": "markdown",
   "metadata": {},
   "source": [
    "### Logistic Regression"
   ]
  },
  {
   "cell_type": "code",
   "execution_count": 5,
   "metadata": {},
   "outputs": [
    {
     "name": "stderr",
     "output_type": "stream",
     "text": [
      "[I 2023-06-24 20:07:07,996] A new study created in RDB with name: logistic_regression\n"
     ]
    },
    {
     "data": {
      "application/vnd.jupyter.widget-view+json": {
       "model_id": "138a136e99c447b88907e9581709fbb2",
       "version_major": 2,
       "version_minor": 0
      },
      "text/plain": [
       "  0%|          | 0/500 [00:00<?, ?it/s]"
      ]
     },
     "metadata": {},
     "output_type": "display_data"
    },
    {
     "name": "stdout",
     "output_type": "stream",
     "text": [
      "{'C': 0.0009484470789001768, 'max_iter': 331, 'penalty': 'l2', 'random_state': 35}\n"
     ]
    }
   ],
   "source": [
    "def LogisticRegressionObjective(trial):\n",
    "    # Parameters to be optimized for logistic regression classifier\n",
    "    penalty = trial.suggest_categorical('penalty', ['l2'])\n",
    "    C = trial.suggest_float('C', 1e-4, 1e-3)\n",
    "    max_iter = trial.suggest_int('max_iter', 100, 500)\n",
    "    random_state = trial.suggest_int('random_state', 0, 42)\n",
    "\n",
    "    # Create the model\n",
    "    model = LogisticRegression(\n",
    "        penalty=penalty,\n",
    "        C=C,\n",
    "        max_iter=max_iter,\n",
    "        random_state=random_state\n",
    "    )\n",
    "\n",
    "    cv = KFold(n_splits=4)\n",
    "    cross_val_scores = cross_val_score(model, X_train, y_train, cv=cv, scoring='accuracy').mean()\n",
    "\n",
    "    return cross_val_scores\n",
    "\n",
    "# Create a study object and optimize the objective function\n",
    "logistic_regression_study = optuna.create_study(storage=\"sqlite:///logistic_regression.db\",\n",
    "                            study_name=\"logistic_regression\",\n",
    "                            load_if_exists=False,\n",
    "                            direction='maximize',\n",
    "                            sampler=TPESampler(seed=42))\n",
    "\n",
    "optuna.logging.set_verbosity(optuna.logging.WARNING)\n",
    "\n",
    "# Start the optimization\n",
    "logistic_regression_study.optimize(LogisticRegressionObjective, n_trials=500, n_jobs=-1, show_progress_bar=True)\n",
    "\n",
    "# Print the optimized parameter values\n",
    "print(logistic_regression_study.best_params)"
   ]
  },
  {
   "cell_type": "code",
   "execution_count": 6,
   "metadata": {},
   "outputs": [
    {
     "name": "stdout",
     "output_type": "stream",
     "text": [
      "Accuracy - 87.00%\n"
     ]
    }
   ],
   "source": [
    "logistic_regression = LogisticRegression(**logistic_regression_study.best_params)\n",
    "logistic_regression.fit(X_train, y_train)\n",
    "y_pred = logistic_regression.predict(X_test)\n",
    "\n",
    "# Mean accuracy score\n",
    "print(f'Accuracy - {accuracy_score(y_test, y_pred) * 100:.2f}%')"
   ]
  },
  {
   "attachments": {},
   "cell_type": "markdown",
   "metadata": {},
   "source": [
    "### Gradient Boosting Classifier"
   ]
  },
  {
   "cell_type": "code",
   "execution_count": 7,
   "metadata": {},
   "outputs": [
    {
     "data": {
      "application/vnd.jupyter.widget-view+json": {
       "model_id": "78aba396ebff4de9bb9e98b9f4309f5d",
       "version_major": 2,
       "version_minor": 0
      },
      "text/plain": [
       "  0%|          | 0/500 [00:00<?, ?it/s]"
      ]
     },
     "metadata": {},
     "output_type": "display_data"
    },
    {
     "name": "stdout",
     "output_type": "stream",
     "text": [
      "{'learning_rate': 0.01, 'max_depth': 24, 'max_features': 'log2', 'min_samples_leaf': 10, 'min_samples_split': 32, 'random_state': 10, 'subsample': 1.0}\n"
     ]
    }
   ],
   "source": [
    "def GradientBoostingObjective(trial):\n",
    "    # Parameters to be optimized for gradient boosting classifier\n",
    "    learning_rate = trial.suggest_categorical('learning_rate', [0.01])\n",
    "    max_depth = trial.suggest_int('max_depth', 16, 32)\n",
    "    subsample = trial.suggest_float('subsample', 0.5, 1.0, step=0.1)\n",
    "    min_samples_split = trial.suggest_categorical('min_samples_split', [32])\n",
    "    min_samples_leaf = trial.suggest_categorical('min_samples_leaf', [10])\n",
    "    max_features = trial.suggest_categorical('max_features', ['log2'])\n",
    "    random_state = trial.suggest_categorical('random_state', [10])\n",
    "\n",
    "    # Create the model\n",
    "    model = GradientBoostingClassifier(\n",
    "        learning_rate=learning_rate,\n",
    "        max_depth=max_depth,\n",
    "        subsample=subsample,\n",
    "        min_samples_split=min_samples_split,\n",
    "        min_samples_leaf=min_samples_leaf,\n",
    "        max_features=max_features,\n",
    "        random_state=random_state\n",
    "    )\n",
    "\n",
    "    # Train the model\n",
    "    model.fit(X_train, y_train)\n",
    "\n",
    "    cv = KFold(n_splits=5, shuffle=True, random_state=random_state)\n",
    "\n",
    "    cross_val_scores = cross_val_score(model, X_train, y_train, cv=cv, scoring='accuracy', n_jobs=5).mean()\n",
    "    return cross_val_scores\n",
    "\n",
    "# Create a study object and optimize the objective function\n",
    "gradient_boosting_study = optuna.create_study(storage=\"sqlite:///gradient_boosting.db\",\n",
    "                            study_name=\"gradient_boosting\",\n",
    "                            load_if_exists=False,\n",
    "                            direction='maximize',\n",
    "                            sampler=TPESampler(seed=42))\n",
    "\n",
    "optuna.logging.set_verbosity(optuna.logging.WARNING)\n",
    "\n",
    "# Start the optimization\n",
    "gradient_boosting_study.optimize(GradientBoostingObjective, n_trials=500, n_jobs=10, show_progress_bar=True)\n",
    "\n",
    "# Print the optimized parameter values\n",
    "print(gradient_boosting_study.best_params)"
   ]
  },
  {
   "cell_type": "code",
   "execution_count": 8,
   "metadata": {},
   "outputs": [
    {
     "name": "stdout",
     "output_type": "stream",
     "text": [
      "Accuracy - 86.40%\n"
     ]
    }
   ],
   "source": [
    "test_params = {\n",
    "    'learning_rate': 0.01,\n",
    "    'max_depth': 32,\n",
    "    'max_features': 'log2',\n",
    "    'min_samples_leaf': 10,\n",
    "    'min_samples_split': 32,\n",
    "    'random_state': 10,\n",
    "    'subsample': 1.0,\n",
    "    'random_state': 10\n",
    "}\n",
    "\n",
    "gradient_boosting = GradientBoostingClassifier(**gradient_boosting_study.best_params)\n",
    "gradient_boosting.fit(X_train, y_train)\n",
    "y_pred = gradient_boosting.predict(X_test)\n",
    "\n",
    "# Mean accuracy score\n",
    "print(f'Accuracy - {accuracy_score(y_test, y_pred) * 100:.2f}%')"
   ]
  },
  {
   "attachments": {},
   "cell_type": "markdown",
   "metadata": {},
   "source": [
    "### Support Vector Classifier"
   ]
  },
  {
   "cell_type": "code",
   "execution_count": 9,
   "metadata": {},
   "outputs": [
    {
     "data": {
      "application/vnd.jupyter.widget-view+json": {
       "model_id": "3cd109aa9557456092477cabb6fbb435",
       "version_major": 2,
       "version_minor": 0
      },
      "text/plain": [
       "  0%|          | 0/1000 [00:00<?, ?it/s]"
      ]
     },
     "metadata": {},
     "output_type": "display_data"
    },
    {
     "name": "stdout",
     "output_type": "stream",
     "text": [
      "{'C': 0.001, 'degree': 2, 'gamma': 'scale', 'kernel': 'linear', 'random_state': 41}\n",
      "0.736\n"
     ]
    }
   ],
   "source": [
    "def SVCObjective(trial):\n",
    "    # Parameters to be optimized for SVC classifier\n",
    "    C = trial.suggest_categorical('C', [1e-3])\n",
    "    kernel = trial.suggest_categorical('kernel', ['linear', 'poly', 'rbf', 'sigmoid'])\n",
    "    degree = trial.suggest_int('degree', 2, 5)\n",
    "    gamma = trial.suggest_categorical('gamma', ['scale', 'auto'])\n",
    "    random_state = trial.suggest_int('random_state', 40, 50)\n",
    "\n",
    "    # Create the model\n",
    "    model = SVC(\n",
    "        C=C,\n",
    "        kernel=kernel,\n",
    "        degree=degree,\n",
    "        gamma=gamma,\n",
    "        random_state=random_state\n",
    "    )\n",
    "\n",
    "    cv = KFold(n_splits=4, shuffle=True, random_state=random_state)\n",
    "\n",
    "    cross_val_scores = cross_val_score(model, X_train, y_train, cv=cv, scoring='accuracy').mean()\n",
    "    return cross_val_scores\n",
    "\n",
    "# Create a study object and optimize the objective function\n",
    "svc_study = optuna.create_study(storage=\"sqlite:///svc.db\",\n",
    "                            study_name=\"svc\",\n",
    "                            load_if_exists=False,\n",
    "                            direction='maximize',\n",
    "                            sampler=TPESampler(seed=42))\n",
    "\n",
    "optuna.logging.set_verbosity(optuna.logging.WARNING)\n",
    "\n",
    "# Start the optimization\n",
    "svc_study.optimize(SVCObjective, n_trials=1000, n_jobs=5, show_progress_bar=True)\n",
    "\n",
    "# Print the optimized parameter values\n",
    "print(svc_study.best_params)\n",
    "print(svc_study.best_value)"
   ]
  },
  {
   "cell_type": "code",
   "execution_count": 10,
   "metadata": {},
   "outputs": [
    {
     "name": "stdout",
     "output_type": "stream",
     "text": [
      "Accuracy - 87.40%\n"
     ]
    }
   ],
   "source": [
    "svc = SVC(**svc_study.best_params)\n",
    "svc.fit(X_train, y_train)\n",
    "y_pred = svc.predict(X_test)\n",
    "\n",
    "# Mean accuracy score\n",
    "print(f'Accuracy - {accuracy_score(y_test, y_pred) * 100:.2f}%')"
   ]
  },
  {
   "attachments": {},
   "cell_type": "markdown",
   "metadata": {},
   "source": [
    "### Random Forest Classifier"
   ]
  },
  {
   "cell_type": "code",
   "execution_count": 11,
   "metadata": {},
   "outputs": [
    {
     "data": {
      "application/vnd.jupyter.widget-view+json": {
       "model_id": "07f3b55ec2cc4ebaa3363e95df90c4ee",
       "version_major": 2,
       "version_minor": 0
      },
      "text/plain": [
       "  0%|          | 0/200 [00:00<?, ?it/s]"
      ]
     },
     "metadata": {},
     "output_type": "display_data"
    },
    {
     "name": "stdout",
     "output_type": "stream",
     "text": [
      "{'max_depth': 19, 'max_features': 'log2', 'min_samples_leaf': 10, 'min_samples_split': 9, 'n_estimators': 300, 'random_state': 50}\n"
     ]
    }
   ],
   "source": [
    "def RandomForestObjective(trial):\n",
    "    # Parameters to be optimized for random forest classifier\n",
    "    n_estimators = trial.suggest_int('n_estimators', 200, 800, step=100)\n",
    "    max_depth = trial.suggest_int('max_depth', 16, 32)\n",
    "    min_samples_split = trial.suggest_int('min_samples_split', 2, 10)\n",
    "    min_samples_leaf = trial.suggest_categorical('min_samples_leaf', [10])\n",
    "    max_features = trial.suggest_categorical('max_features', ['log2'])\n",
    "    random_state = trial.suggest_categorical('random_state', [50])\n",
    "\n",
    "    # Create the model\n",
    "    model = RandomForestClassifier(\n",
    "        n_estimators=n_estimators,\n",
    "        max_depth=max_depth,\n",
    "        min_samples_split=min_samples_split,\n",
    "        min_samples_leaf=min_samples_leaf,\n",
    "        max_features=max_features,  \n",
    "        random_state=random_state\n",
    "    )\n",
    "\n",
    "    # Cross-validation\n",
    "    kf = KFold(n_splits=4, shuffle=True, random_state=random_state)\n",
    "\n",
    "    # Obtain the cross-validation accuracy for this set of parameters\n",
    "    scores = cross_val_score(model, X_train, y_train, cv=kf, scoring='accuracy', n_jobs=10)\n",
    "    return scores.mean()\n",
    "\n",
    "# Create a study object and optimize the objective function\n",
    "random_forest_study = optuna.create_study(storage=\"sqlite:///randomforest.db\",\n",
    "                            study_name=\"random_forest\",\n",
    "                            load_if_exists=False,\n",
    "                            direction='maximize',\n",
    "                            sampler=TPESampler(seed=10))\n",
    "\n",
    "optuna.logging.set_verbosity(optuna.logging.WARNING)\n",
    "\n",
    "# Start the optimization\n",
    "random_forest_study.optimize(RandomForestObjective, n_trials=200, n_jobs=10, show_progress_bar=True)\n",
    "\n",
    "# Print the optimized parameter values\n",
    "print(random_forest_study.best_params)"
   ]
  },
  {
   "cell_type": "code",
   "execution_count": 12,
   "metadata": {},
   "outputs": [
    {
     "name": "stdout",
     "output_type": "stream",
     "text": [
      "Accuracy - 87.00%\n"
     ]
    }
   ],
   "source": [
    "random_forest = RandomForestClassifier(**random_forest_study.best_params)\n",
    "random_forest.fit(X_train, y_train)\n",
    "y_pred = random_forest.predict(X_test)\n",
    "\n",
    "# Mean accuracy score\n",
    "print(f'Accuracy - {accuracy_score(y_test, y_pred) * 100:.2f}%')"
   ]
  },
  {
   "attachments": {},
   "cell_type": "markdown",
   "metadata": {},
   "source": [
    "### KNeighbors Classifier"
   ]
  },
  {
   "cell_type": "code",
   "execution_count": 13,
   "metadata": {},
   "outputs": [
    {
     "data": {
      "application/vnd.jupyter.widget-view+json": {
       "model_id": "b74ecd2390e249498ef8badeedf89cbe",
       "version_major": 2,
       "version_minor": 0
      },
      "text/plain": [
       "  0%|          | 0/500 [00:00<?, ?it/s]"
      ]
     },
     "metadata": {},
     "output_type": "display_data"
    },
    {
     "name": "stdout",
     "output_type": "stream",
     "text": [
      "{'leaf_size': 7, 'n_neighbors': 178, 'p': 1, 'weights': 'distance'}\n"
     ]
    }
   ],
   "source": [
    "def KNNObjective(trial):\n",
    "    # Parameters to be optimized for KNN classifier\n",
    "    n_neighbors = trial.suggest_int('n_neighbors', 170, 180, step=1)\n",
    "    weights = trial.suggest_categorical('weights', ['uniform', 'distance'])\n",
    "    # algorithm = trial.suggest_categorical('algorithm', ['auto', 'ball_tree', 'kd_tree', 'brute'])\n",
    "    leaf_size = trial.suggest_int('leaf_size', 5, 10)\n",
    "    p = trial.suggest_categorical('p', [1])\n",
    "\n",
    "    # Create the model\n",
    "    model = KNeighborsClassifier(\n",
    "        n_neighbors=n_neighbors,\n",
    "        weights=weights,\n",
    "        # algorithm=algorithm,\n",
    "        leaf_size=leaf_size,\n",
    "        p=p\n",
    "    )\n",
    "\n",
    "    model.fit(X_train, y_train)\n",
    "\n",
    "    cv = KFold(n_splits=4, shuffle=True, random_state=123)\n",
    "\n",
    "    cross_val_scores = cross_val_score(model, X_train, y_train, cv=cv, scoring='accuracy').mean()\n",
    "    return cross_val_scores\n",
    "\n",
    "# Create a study object and optimize the objective function\n",
    "knn_study = optuna.create_study(storage=\"sqlite:///knn.db\",\n",
    "                            study_name=\"knn\",\n",
    "                            load_if_exists=False,\n",
    "                            direction='maximize',\n",
    "                            sampler=TPESampler(seed=10))\n",
    "\n",
    "optuna.logging.set_verbosity(optuna.logging.WARNING)\n",
    "\n",
    "# Start the optimization\n",
    "knn_study.optimize(KNNObjective, n_trials=500, n_jobs=5, show_progress_bar=True)\n",
    "\n",
    "# Print the optimized parameter values\n",
    "print(knn_study.best_params)"
   ]
  },
  {
   "cell_type": "code",
   "execution_count": 14,
   "metadata": {},
   "outputs": [
    {
     "name": "stdout",
     "output_type": "stream",
     "text": [
      "Accuracy - 85.80%\n"
     ]
    }
   ],
   "source": [
    "knn = KNeighborsClassifier(**knn_study.best_params)\n",
    "knn.fit(X_train, y_train)\n",
    "y_pred = knn.predict(X_test)\n",
    "\n",
    "# Mean accuracy score\n",
    "print(f'Accuracy - {accuracy_score(y_test, y_pred) * 100:.2f}%')"
   ]
  }
 ],
 "metadata": {
  "kernelspec": {
   "display_name": "Python 3",
   "language": "python",
   "name": "python3"
  },
  "language_info": {
   "codemirror_mode": {
    "name": "ipython",
    "version": 3
   },
   "file_extension": ".py",
   "mimetype": "text/x-python",
   "name": "python",
   "nbconvert_exporter": "python",
   "pygments_lexer": "ipython3",
   "version": "3.10.4"
  },
  "orig_nbformat": 4
 },
 "nbformat": 4,
 "nbformat_minor": 2
}
