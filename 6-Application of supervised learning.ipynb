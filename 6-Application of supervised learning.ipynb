{
 "cells": [
  {
   "attachments": {},
   "cell_type": "markdown",
   "metadata": {},
   "source": [
    "# 6 - Application of Supervised Learning"
   ]
  },
  {
   "attachments": {},
   "cell_type": "markdown",
   "metadata": {},
   "source": [
    "## Dataset - \"House Prices - Advanced Regression Techniques\" from Kaggle"
   ]
  },
  {
   "attachments": {},
   "cell_type": "markdown",
   "metadata": {},
   "source": [
    "For this part of the project, we have chosen to work on the Kaggle competition dataset \"House Prices - Advanced Regression Techniques\".\n",
    "\n",
    "The dataset contains 79 explanatory variables describing (almost) every aspect of residential homes in Ames, Iowa. The of the competition was to predict the final price of a given home specifications / features.\n",
    "\n",
    "The dataset can be found here: [House prices - Advanced Regression Techniques](https://www.kaggle.com/competitions/house-prices-advanced-regression-techniques/data)"
   ]
  },
  {
   "attachments": {},
   "cell_type": "markdown",
   "metadata": {},
   "source": [
    "## Imports"
   ]
  },
  {
   "cell_type": "code",
   "execution_count": 1,
   "metadata": {},
   "outputs": [],
   "source": [
    "import numpy as np\n",
    "import pandas as pd\n",
    "import matplotlib.pyplot as plt\n",
    "import seaborn as sns\n",
    "import optuna\n",
    "from optuna.samplers import TPESampler\n",
    "from sklearn.preprocessing import StandardScaler\n",
    "from sklearn.ensemble import RandomForestRegressor\n",
    "from sklearn.linear_model import Ridge, Lasso\n",
    "from xgboost import XGBRegressor\n",
    "\n",
    "from sklearn.metrics import accuracy_score, r2_score\n",
    "from sklearn.model_selection import train_test_split, cross_val_score, KFold\n",
    "from sklearn.impute import SimpleImputer"
   ]
  },
  {
   "attachments": {},
   "cell_type": "markdown",
   "metadata": {},
   "source": [
    "## Data loading"
   ]
  },
  {
   "attachments": {},
   "cell_type": "markdown",
   "metadata": {},
   "source": [
    "We first need to load the training data and testing data from the dataset."
   ]
  },
  {
   "cell_type": "code",
   "execution_count": 2,
   "metadata": {},
   "outputs": [],
   "source": [
    "training_data = pd.read_csv('./house-prices/train.csv')\n",
    "testing_data = pd.read_csv('./house-prices/test.csv')"
   ]
  },
  {
   "attachments": {},
   "cell_type": "markdown",
   "metadata": {},
   "source": [
    "## Data visualization"
   ]
  },
  {
   "attachments": {},
   "cell_type": "markdown",
   "metadata": {},
   "source": [
    "### House prices"
   ]
  },
  {
   "attachments": {},
   "cell_type": "markdown",
   "metadata": {},
   "source": [
    "In order to have an idea of the distribution of the house prices, we can plot a histogram."
   ]
  },
  {
   "cell_type": "code",
   "execution_count": 3,
   "metadata": {},
   "outputs": [
    {
     "data": {
      "image/png": "[encoded data removed]",
      "text/plain": [
       "<Figure size 640x480 with 1 Axes>"
      ]
     },
     "metadata": {},
     "output_type": "display_data"
    }
   ],
   "source": [
    "_ = sns.histplot(training_data['SalePrice'], color='r', bins=80, alpha=0.5, edgecolor=None, kde=True)"
   ]
  },
  {
   "attachments": {},
   "cell_type": "markdown",
   "metadata": {},
   "source": [
    "We can observe that the distribution is not normal, and is skewed to the right. Concretely, there are a majority of low priced houses, and a small minority of houses with a high price.<br>\n",
    "That needs to be taken into consideration, as it may represent a bias for a model while learning features."
   ]
  },
  {
   "attachments": {},
   "cell_type": "markdown",
   "metadata": {},
   "source": [
    "### Features"
   ]
  },
  {
   "attachments": {},
   "cell_type": "markdown",
   "metadata": {},
   "source": [
    "## Preprocessing"
   ]
  },
  {
   "attachments": {},
   "cell_type": "markdown",
   "metadata": {},
   "source": [
    "As we are using raw data, we need to clean it through preprocessing, in order to make it usable, and as reliable as possible for the training phase.<br>\n",
    "The preprocessing phase will be composed of the following steps:\n",
    "* Removing columns composed of categorical data, as the scikit-learn library does not support this type of data.\n",
    "* Removing columns with a high percentage of missing values. For that, we will use a default threshold of 50%. However, it would be interesting to test different thresholds, to see which impact it has on the final results.\n",
    "* Removing columns with a lot of identical values, as they will not be useful for the training phase. Indeed, they will not bring any interesting features for the model to learn.\n",
    "* Filling the missing values with data imputation. The policy we will use is to fill the missing values with the mean of the column. That should be the least altering method, as it will not create any outliers, and will not change the distribution of the data."
   ]
  },
  {
   "cell_type": "code",
   "execution_count": 4,
   "metadata": {},
   "outputs": [],
   "source": [
    "def preprocess(data: pd.DataFrame, threshold: float = 0.5, imputation_policy: str = 'mean') -> pd.DataFrame:\n",
    "    \"\"\"\n",
    "    Preprocess data:\n",
    "    - Drop columns that have categorical values\n",
    "    - Drop columns that have 50% or more missing values over all rows\n",
    "    - Fill missing values with the mean strategy\n",
    "\n",
    "    Args:\n",
    "        data (pd.DataFrame): Data to preprocess\n",
    "        threshold (float): Threshold to drop columns that have missing values\n",
    "        imputation_policy (str): Imputation policy to fill missing values\n",
    "    Returns:\n",
    "        pd.DataFrame: Preprocessed data\n",
    "    \"\"\"\n",
    "    # Drop columns containing categorical values\n",
    "    data = data.drop(data.columns[data.dtypes == 'object'], axis=1)\n",
    "    \n",
    "    # Drop columns that have at least half of missing values\n",
    "    corrupted_columns = data.columns[data.isnull().mean() >= threshold]\n",
    "    data = data.drop(corrupted_columns, axis=1)\n",
    "\n",
    "    # Drop columns that have at least half of the same values\n",
    "    same_value_columns = data.columns[data.nunique() <= 1]\n",
    "    data = data.drop(same_value_columns, axis=1)\n",
    "\n",
    "    # Fill missing numerical values with the mean strategy,\n",
    "    # using data imputation\n",
    "    imcomplete_columns = data.columns[data.isna().any()]\n",
    "    simple_imputer = SimpleImputer(strategy=imputation_policy, missing_values=np.nan)\n",
    "    data[imcomplete_columns] = simple_imputer.fit_transform(data[imcomplete_columns])\n",
    "\n",
    "    return data"
   ]
  },
  {
   "attachments": {},
   "cell_type": "markdown",
   "metadata": {},
   "source": [
    "We can now apply preprocessing to our data. For now, we use the default preprocessing parameters."
   ]
  },
  {
   "cell_type": "code",
   "execution_count": 5,
   "metadata": {},
   "outputs": [],
   "source": [
    "preprocessed_training_data = preprocess(training_data)\n",
    "preprocessed_testing_data = preprocess(testing_data)"
   ]
  },
  {
   "attachments": {},
   "cell_type": "markdown",
   "metadata": {},
   "source": [
    "There is still one last step to go through before training the model. Indeed, we need to split our training data into a training, a validation and a testing set. We will use the following distribution:\n",
    "* Training - 80%\n",
    "* Testing - 20%\n",
    "\n",
    "We use 20% of the data for the testing set, to have a robust estimation of the model's generalization capabilities."
   ]
  },
  {
   "cell_type": "code",
   "execution_count": 6,
   "metadata": {},
   "outputs": [],
   "source": [
    "X_train, X_test, y_train, y_test = train_test_split(preprocessed_training_data.drop('SalePrice', axis=1), preprocessed_training_data['SalePrice'], test_size=0.2, random_state=42)"
   ]
  },
  {
   "attachments": {},
   "cell_type": "markdown",
   "metadata": {},
   "source": [
    "## Regression"
   ]
  },
  {
   "attachments": {},
   "cell_type": "markdown",
   "metadata": {},
   "source": [
    "### Models"
   ]
  },
  {
   "attachments": {},
   "cell_type": "markdown",
   "metadata": {},
   "source": [
    "Our goal is to predict the price of a house, based on its features. Therefore, we will use a regression model. However, we need to choose which regression model to use. We will test the following models:\n",
    "* Lasso regression\n",
    "* XGBoost regression"
   ]
  },
  {
   "attachments": {},
   "cell_type": "markdown",
   "metadata": {},
   "source": [
    "### Methodology"
   ]
  },
  {
   "attachments": {},
   "cell_type": "markdown",
   "metadata": {},
   "source": [
    "To best fine tune the hyperparameters of the models, we will the Optuna library. Given ranges of hyperpameters, it will try to find the best combination of hyperparameters, in order to maximize the performance of the model.<br>\n",
    "We will use cross-validation for each set of hyperparameters. In fact, that explains why we did not create a validation set. This will help us to obtain a more robust set of hyperparameters, as it will be tested on different sets of data. We will use the **r2 scoring metric** to evaluate the performance of the model (best suited for regression problems).\n",
    "\n",
    "One good advantage of Optuna is its ease of use, mostly thanks to compability with the scikit-learn library. Moreover, we can fine tune parameters on continuous and discrete values, which is very useful if we want to test different types of hyperparameters. Finally, Optuna supervises the hyperparameter search for us, and we can observe the results in real time thanks to the Optuna dashboard.\n",
    "\n",
    "<u>**Note**</u> - We will not be testing the performance of the models on data that has not been preprocessed. That is so because the different models we will be using do not support categorical data."
   ]
  },
  {
   "attachments": {},
   "cell_type": "markdown",
   "metadata": {},
   "source": [
    "### Random Forest regression"
   ]
  },
  {
   "attachments": {},
   "cell_type": "markdown",
   "metadata": {},
   "source": [
    "We define an objective function for the Optuna library. For each Optuna trial, the function choses a new set of hyperparameters, that are then used to instantiate a **RandomForestRegressor**. The function then applies cross-validation on the training set, and returns the mean of the cross-validation scores.\n",
    "\n",
    "<u><i>Note</i></u>: We use the **log2** as the max feature, as we are working with a tree-based architecture."
   ]
  },
  {
   "cell_type": "code",
   "execution_count": 7,
   "metadata": {},
   "outputs": [],
   "source": [
    "# Remove optuna study databases if they exist\n",
    "!rm *.db"
   ]
  },
  {
   "cell_type": "code",
   "execution_count": 8,
   "metadata": {},
   "outputs": [],
   "source": [
    "def RandomForestObjective(trial: optuna.trial.Trial) -> float:\n",
    "    \"\"\"\n",
    "    Objective function for the RandomForestRegressor\n",
    "\n",
    "    Args:\n",
    "        trial (optuna.trial.Trial): Trial object\n",
    "    Returns:\n",
    "        float: Mean squared error\n",
    "    \"\"\"\n",
    "    n_estimators = trial.suggest_int('n_estimators', 2, 200)\n",
    "    max_depth = trial.suggest_int('max_depth', 2, 200)\n",
    "    min_samples_split = trial.suggest_int('min_samples_split', 2, 200)\n",
    "    min_samples_leaf = trial.suggest_int('min_samples_leaf', 2, 200)\n",
    "    max_features = trial.suggest_categorical('max_features', ['log2'])\n",
    "    bootstrap = trial.suggest_categorical('bootstrap', [True, False])\n",
    "\n",
    "    model = RandomForestRegressor(n_estimators=n_estimators,\n",
    "                                  max_depth=max_depth,\n",
    "                                  min_samples_split=min_samples_split,\n",
    "                                  min_samples_leaf=min_samples_leaf,\n",
    "                                  max_features=max_features,\n",
    "                                  bootstrap=bootstrap,\n",
    "                                  n_jobs=-1,\n",
    "                                  random_state=42)\n",
    "    \n",
    "    kFolds = KFold(n_splits=5, shuffle=True, random_state=42)\n",
    "    scores = cross_val_score(model, X_train, y_train, cv=kFolds, scoring='r2', n_jobs=-1)\n",
    "    return scores.mean()"
   ]
  },
  {
   "attachments": {},
   "cell_type": "markdown",
   "metadata": {},
   "source": [
    "The next step is to create an Optuna study, and to run the optimization process. We will use 500 trials. We can then display the best set of hyperparameters, and the best score obtained."
   ]
  },
  {
   "cell_type": "code",
   "execution_count": 9,
   "metadata": {},
   "outputs": [
    {
     "name": "stderr",
     "output_type": "stream",
     "text": [
      "[I 2023-06-25 23:30:56,367] A new study created in RDB with name: RandomForestRegressor\n"
     ]
    },
    {
     "data": {
      "application/vnd.jupyter.widget-view+json": {
       "model_id": "92b51c9a111d40f6b43929f614083574",
       "version_major": 2,
       "version_minor": 0
      },
      "text/plain": [
       "  0%|          | 0/500 [00:00<?, ?it/s]"
      ]
     },
     "metadata": {},
     "output_type": "display_data"
    },
    {
     "name": "stdout",
     "output_type": "stream",
     "text": [
      "Best hyperparameters - {'bootstrap': False, 'max_depth': 176, 'max_features': 'log2', 'min_samples_leaf': 2, 'min_samples_split': 2, 'n_estimators': 126}\n",
      "Best value - 0.8532211178461662\n"
     ]
    }
   ],
   "source": [
    "random_forest_study = optuna.create_study(storage='sqlite:///random_forest.db',\n",
    "                                          study_name='RandomForestRegressor',\n",
    "                                          direction='maximize',\n",
    "                                          sampler=TPESampler(seed=42))\n",
    "\n",
    "optuna.logging.set_verbosity(optuna.logging.WARNING)\n",
    "\n",
    "random_forest_study.optimize(RandomForestObjective, n_trials=500, n_jobs=-1, show_progress_bar=True)\n",
    "\n",
    "# Display results\n",
    "print(f'Best hyperparameters - {random_forest_study.best_params}')\n",
    "print(f'Best value - {random_forest_study.best_value}')"
   ]
  },
  {
   "attachments": {},
   "cell_type": "markdown",
   "metadata": {},
   "source": [
    "The last step is to train an instance of the model, using the best set of hyperparameters found above. We can then evaluate the performance of the model on the testing set."
   ]
  },
  {
   "cell_type": "code",
   "execution_count": 10,
   "metadata": {},
   "outputs": [
    {
     "name": "stdout",
     "output_type": "stream",
     "text": [
      "R2 score (Random Forest) - 0.8840690226109282\n"
     ]
    }
   ],
   "source": [
    "random_forest_regressor = RandomForestRegressor(**random_forest_study.best_params, n_jobs=-1, random_state=42)\n",
    "random_forest_regressor.fit(X_train, y_train)\n",
    "random_forest_regressor_predictions = random_forest_regressor.predict(X_test)\n",
    "\n",
    "score = r2_score(y_test, random_forest_regressor_predictions)\n",
    "print(f'R2 score (Random Forest) - {score}')"
   ]
  },
  {
   "attachments": {},
   "cell_type": "markdown",
   "metadata": {},
   "source": [
    "### XGBoost"
   ]
  },
  {
   "attachments": {},
   "cell_type": "markdown",
   "metadata": {},
   "source": [
    "For the XGBoost model, we use the same methodology as for the Random Forest model. We start by defining the objective function."
   ]
  },
  {
   "cell_type": "code",
   "execution_count": 11,
   "metadata": {},
   "outputs": [],
   "source": [
    "def XGBoostObjective(trial: optuna.trial.Trial) -> float:\n",
    "    \"\"\"\n",
    "    Objective function for the XGBRegressor\n",
    "\n",
    "    Args:\n",
    "        trial (optuna.trial.Trial): Trial object\n",
    "    Returns:\n",
    "        float: Mean squared error\n",
    "    \"\"\"\n",
    "    n_estimators = trial.suggest_int('n_estimators', 10, 200)\n",
    "    max_depth = trial.suggest_int('max_depth', 16, 32)\n",
    "    learning_rate = trial.suggest_float('learning_rate', 0.001, 1)\n",
    "    subsample = trial.suggest_float('subsample', 0.1, 1, step=0.1)\n",
    "    colsample_bytree = trial.suggest_float('colsample_bytree', 0.1, 1, step=0.1)\n",
    "    colsample_bylevel = trial.suggest_float('colsample_bylevel', 0.1, 1, step=0.1)\n",
    "    colsample_bynode = trial.suggest_float('colsample_bynode', 0.1, 1, step=0.1)\n",
    "    reg_alpha = trial.suggest_float('reg_alpha', 0.001, 1)\n",
    "    reg_lambda = trial.suggest_float('reg_lambda', 0.001, 1)\n",
    "    gamma = trial.suggest_float('gamma', 0.001, 1)\n",
    "\n",
    "    model = XGBRegressor(n_estimators=n_estimators,\n",
    "                         max_depth=max_depth,\n",
    "                         learning_rate=learning_rate,\n",
    "                         subsample=subsample,\n",
    "                         colsample_bytree=colsample_bytree,\n",
    "                         colsample_bylevel=colsample_bylevel,\n",
    "                         colsample_bynode=colsample_bynode,\n",
    "                         reg_alpha=reg_alpha,\n",
    "                         reg_lambda=reg_lambda,\n",
    "                         gamma=gamma,\n",
    "                         random_state=42)\n",
    "    \n",
    "    kFolds = KFold(n_splits=4, shuffle=True, random_state=42)\n",
    "    scores = cross_val_score(model, X_train, y_train, cv=kFolds, scoring='r2', n_jobs=-1)\n",
    "    return scores.mean()"
   ]
  },
  {
   "attachments": {},
   "cell_type": "markdown",
   "metadata": {},
   "source": [
    "Still in the same line of process, we now create an Optuna study."
   ]
  },
  {
   "cell_type": "code",
   "execution_count": 12,
   "metadata": {},
   "outputs": [
    {
     "data": {
      "application/vnd.jupyter.widget-view+json": {
       "model_id": "1a20ea2fde214821ba059f7309b09fec",
       "version_major": 2,
       "version_minor": 0
      },
      "text/plain": [
       "  0%|          | 0/500 [00:00<?, ?it/s]"
      ]
     },
     "metadata": {},
     "output_type": "display_data"
    },
    {
     "name": "stdout",
     "output_type": "stream",
     "text": [
      "Best hyperparameters - {'colsample_bylevel': 0.30000000000000004, 'colsample_bynode': 0.9, 'colsample_bytree': 0.30000000000000004, 'gamma': 0.39155989200897373, 'learning_rate': 0.05283936693360154, 'max_depth': 25, 'n_estimators': 175, 'reg_alpha': 0.3907372647672154, 'reg_lambda': 0.9742716307703534, 'subsample': 0.4}\n",
      "Best value - 0.858635052035309\n"
     ]
    }
   ],
   "source": [
    "xgboost_study = optuna.create_study(storage='sqlite:///xgboost.db',\n",
    "                                    study_name='XGBRegressor',\n",
    "                                    direction='maximize',\n",
    "                                    sampler=TPESampler(seed=42))\n",
    "\n",
    "optuna.logging.set_verbosity(optuna.logging.WARNING)\n",
    "\n",
    "xgboost_study.optimize(XGBoostObjective, n_trials=500, n_jobs=5, show_progress_bar=True)\n",
    "\n",
    "# Display results\n",
    "print(f'Best hyperparameters - {xgboost_study.best_params}')\n",
    "print(f'Best value - {xgboost_study.best_value}')"
   ]
  },
  {
   "attachments": {},
   "cell_type": "markdown",
   "metadata": {},
   "source": [
    "As with the other model, we can evaluate the performance of the model on the testing set, with the best set of hyperparameters found in the Optuna study."
   ]
  },
  {
   "cell_type": "code",
   "execution_count": 13,
   "metadata": {},
   "outputs": [
    {
     "name": "stdout",
     "output_type": "stream",
     "text": [
      "R2 score (XGBoost) - 0.9023339052988422\n"
     ]
    }
   ],
   "source": [
    "xgboost_regressor = XGBRegressor(**xgboost_study.best_params, random_state=42)\n",
    "xgboost_regressor.fit(X_train, y_train)\n",
    "xgboost_regressor_predictions = xgboost_regressor.predict(X_test)\n",
    "\n",
    "score = r2_score(y_test, xgboost_regressor_predictions)\n",
    "\n",
    "print(f'R2 score (XGBoost) - {score}')"
   ]
  },
  {
   "attachments": {},
   "cell_type": "markdown",
   "metadata": {},
   "source": [
    "## Results"
   ]
  },
  {
   "attachments": {},
   "cell_type": "markdown",
   "metadata": {},
   "source": [
    "FIXME"
   ]
  }
 ],
 "metadata": {
  "kernelspec": {
   "display_name": "SCIA",
   "language": "python",
   "name": "python3"
  },
  "language_info": {
   "codemirror_mode": {
    "name": "ipython",
    "version": 3
   },
   "file_extension": ".py",
   "mimetype": "text/x-python",
   "name": "python",
   "nbconvert_exporter": "python",
   "pygments_lexer": "ipython3",
   "version": "3.10.4"
  },
  "orig_nbformat": 4
 },
 "nbformat": 4,
 "nbformat_minor": 2
}
