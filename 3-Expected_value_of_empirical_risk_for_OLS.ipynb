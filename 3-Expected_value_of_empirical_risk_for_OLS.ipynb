{
 "cells": [
  {
   "attachments": {},
   "cell_type": "markdown",
   "metadata": {},
   "source": [
    "# 3-Esperance du risque empirique pour OLS"
   ]
  },
  {
   "attachments": {},
   "cell_type": "markdown",
   "metadata": {},
   "source": [
    "## Question 1 (M)\n",
    "\n",
    "Montrer que : $E[R_n(\\hat{\\theta})]=E[\\frac{1}{n}||(I_n-X(X^TX)^{-1}X^T)\\epsilon||_{2}^2]$\n",
    "\n",
    "$E[R_n(\\hat{\\theta})]=E[\\frac{1}{n}||y-X\\hat{\\theta}||_{2}^2]$\n",
    "\n",
    "$E[R_n(\\hat{\\theta})]=E[\\frac{1}{n}||y-X(X^TX)^{-1}X^Ty||_{2}^2]]$\n",
    "\n",
    "On a :\n",
    "$y=(X\\theta^*+\\epsilon)$\n",
    "\n",
    "Par consequent: \n",
    "\n",
    "$E[R_n(\\hat{\\theta})]=E[\\frac{1}{n}||(I_n-X(X^TX)^{-1}X^T)(X\\theta^*+\\epsilon)||_{2}^2]$\n",
    "\n",
    "$E[R_n(\\hat{\\theta})]=E[\\frac{1}{n}||(X\\theta^*-X((X^TX)^{-1}(X^TX)\\theta^*)+(I_n-X(X^TX)^{-1}X^T)(\\epsilon)||_{2}^2]$\n",
    "\n",
    "$E[R_n(\\hat{\\theta})]=E[\\frac{1}{n}||(X\\theta^*-X\\theta^*)+(I_n-X(X^TX)^{-1}X^T)(\\epsilon)||_{2}^2]$\n",
    "\n",
    "$E[R_n(\\hat{\\theta})]=E[\\frac{1}{n}||(I_n-X(X^TX)^{-1}X^T)\\epsilon||_{2}^2]$\n",
    "\n",
    "\n",
    "\n",
    "\n",
    "\n",
    "\n"
   ]
  },
  {
   "attachments": {},
   "cell_type": "markdown",
   "metadata": {},
   "source": [
    "## Question 2 (M)\n",
    "**<u>Preuve</u>**\n",
    "\n",
    "1. Soient $A,B\\in \\mathbb{R^{n,n}}$. Pour $AB=[c_{ij}]$ $\\forall(i,j)\\in \\mathbb{N}^2$ on a $c_{ij}=\\sum_{k=1}^n=a_{ik}b_{kj}$\n",
    "2. Pour $A^T$ $\\forall(i,j)\\in \\mathbb{N}^2$ $a^T_{ij}=a_{ji}$\n",
    "3. Donc pour $A^TA=[c_{ij}]$, $\\forall(i,j)\\in \\mathbb{N}^2$ on aura $c_{ij}=\\sum_{k=1}^n=a_{ki}a_{kj}$ puisque $a^T_{ij}=a_{ji}$\n",
    "\n",
    "    $tr(A^TA)=\\sum_{i=1}^{n}c_{ii}=\\sum_{i=1}^{n}\\sum_{k=1}^{n}a_{ki}a_{ki}$\n",
    "    \n",
    "    $tr(A^TA)=\\sum_{i=1}^{n}\\sum_{k=1}^{n}(a_{ki})^2$\n",
    "\n",
    "    $tr(A^TA)= \\underset{{(k,i)\\in[1,n]^{2}}}{\\sum(a_{ki})^2}=\\underset{{(i,j)\\in[1,n]^{2}}}{\\sum(a_{ij})^2}=\\underset{{(i,j)\\in[1,n]^{2}}}{\\sum A_{ij}^2}$"
   ]
  },
  {
   "attachments": {},
   "cell_type": "markdown",
   "metadata": {},
   "source": [
    "## Question 3 (M)\n",
    "\n",
    "$E_{\\epsilon}[\\frac{1}{n}||A\\epsilon||^2]=E_{\\epsilon}[\\frac{1}{n}||A||^2||\\epsilon||^2]$\n",
    "\n",
    "$=\\frac{1}{n}||A||^2E_{\\epsilon}[||\\epsilon||^2]=\\frac{1}{n}||A||^2\\sigma^2$\n",
    "\n",
    "$=\\frac{\\sigma^2}{n}||A||^2=\\frac{\\sigma^2}{n}\\sqrt{\\underset{{(i,j)\\in[1,n]^{2}}}{\\sum(a_{ij})^2}}^2$\n",
    "\n",
    "$=\\frac{\\sigma^2}{n}\\underset{{(i,j)\\in[1,n]^{2}}}{\\sum(a_{ij})^2}=\\frac{\\sigma^2}{n}tr(A^TA)$\n",
    "\n"
   ]
  },
  {
   "attachments": {},
   "cell_type": "markdown",
   "metadata": {},
   "source": [
    "## Question 4 (M)\n",
    "\n",
    "**<u>Preuve</u>**\n",
    "\n",
    "$A^TA= (I_n - X(X^TX)^{-1}X^T)^T(I_n - X(X^TX)^{-1}X^T)$\\\n",
    "$=(I_n^T - (X(X^TX)^{-1}X^T)^T)(I_n - X^T(X^TX)^{-1}X^T)$\\\n",
    "$=(I_n - X(X^TX)^{-1}X^T)(I_n - X^T(X^TX)^{-1}X^T)$\\\n",
    "$=I_n - X(X^TX)^{-1}X^T - X(X^TX)^{-1}X^T + X(X^TX)^{-1}X^TX(X^TX)^{-1}X^T$\\\n",
    "$=I_n - 2X(X^TX)^{-1}X^T + XI_n(X^TX)^{-1}X^T$\\\n",
    "$=I_n - X(X^TX)^{-1}X^T$\n",
    "\n",
    "$A^TA=A$"
   ]
  },
  {
   "attachments": {},
   "cell_type": "markdown",
   "metadata": {},
   "source": [
    "## Question 5 (M)\n",
    "\n",
    "Avec les résultats précédents on a finalement:\n",
    "\n",
    "$=E[\\frac{1}{n}||I_n-X(X^TX)^{-1}X^T\\epsilon||_{2}^2]$\\\n",
    "$=E[\\frac{1}{n}||A\\epsilon||_{2}^2]$\\\n",
    "$=\\frac{\\sigma^2}{n}tr(A^TA)$\\\n",
    "$=\\frac{\\sigma^2}{n}tr(A)$\\\n",
    "$=\\frac{\\sigma^2}{n}tr(I_n - X(X^TX)^{-1}X^T)$\\\n",
    "$=\\frac{\\sigma^2}{n}(tr(I_n) - tr(X(X^TX)^{-1}X^T))$\\\n",
    "$=\\frac{\\sigma^2}{n}(n - tr(X(X^TX)^{-1}X^T))$\\\n",
    "$=\\frac{\\sigma^2}{n}(n - tr((X^TX)^{-1}X^TX))$\\\n",
    "$=\\frac{\\sigma^2}{n}(n - tr(I_d))$\\\n",
    "$=\\frac{\\sigma^2}{n}(n - d)$\n",
    "\n",
    "On vérifie bien la proposition $E[R_n(\\hat{\\theta})]=\\frac{\\sigma^2}{n}(n - d)$"
   ]
  },
  {
   "attachments": {},
   "cell_type": "markdown",
   "metadata": {},
   "source": [
    "### Question 6 (M)\n",
    "\n",
    "On a $\\frac{||y-X\\hat{\\theta}||_{2}^2}{n-d}$ = $\\frac{||y-X\\hat{\\theta}||_{2}^2}{n} \\frac{n}{n-d}$\n",
    "\n",
    "Donc $E[\\frac{||y-X\\hat{\\theta}||_{2}^2}{n-d}]$ = $E[\\frac{||y-X\\hat{\\theta}||_{2}^2}{n} \\frac{n}{n-d}] $ = $\\frac{n}{n-d}E[\\frac{||y-X\\hat{\\theta}||_{2}^2}{n}] $ \n",
    "\n",
    "$=\\frac{n}{n-d}E[R_n(\\hat{\\theta})]$ = $\\frac{n}{n-d}\\frac{n-d}{n}\\sigma^2$\n",
    "\n",
    "$=\\sigma^2$"
   ]
  },
  {
   "attachments": {},
   "cell_type": "markdown",
   "metadata": {},
   "source": [
    "### Question 7 (C)"
   ]
  },
  {
   "attachments": {},
   "cell_type": "markdown",
   "metadata": {},
   "source": [
    "*Produce a numerical simulation that estimates $\\sigma^2$ thanks to the result of step 6. Check that the result is consistent with the theoretical value you have chosen.*"
   ]
  },
  {
   "attachments": {},
   "cell_type": "markdown",
   "metadata": {},
   "source": []
  },
  {
   "cell_type": "code",
   "execution_count": 1,
   "metadata": {},
   "outputs": [],
   "source": [
    "import numpy as np\n",
    "rng = np.random.default_rng()"
   ]
  },
  {
   "cell_type": "code",
   "execution_count": 2,
   "metadata": {},
   "outputs": [],
   "source": [
    "#Define setting\n",
    "n = int(1e3)\n",
    "d = int(50)\n",
    "\n",
    "a_x, b_x = 0, 200 \n",
    "a_theta, b_theta= -160, 160\n",
    "\n",
    "sigma = 5\n",
    "sigma_theta, mu_theta = 5, 10\n",
    "\n",
    "X = rng.uniform(a_x, b_x, size=(n,d))\n",
    "theta_star = rng.uniform(a_theta, b_theta, size=(d, n))\n",
    "\n"
   ]
  },
  {
   "cell_type": "code",
   "execution_count": 5,
   "metadata": {},
   "outputs": [],
   "source": [
    "def define_setting(X, theta_star, sigma):\n",
    "    epsilon = rng.normal(0, sigma, size=(X.shape[0]))\n",
    "    \n",
    "    return X @ theta_star + epsilon"
   ]
  },
  {
   "cell_type": "code",
   "execution_count": 6,
   "metadata": {},
   "outputs": [],
   "source": [
    "y = define_setting(X, theta_star, sigma)\n",
    "assert X.shape[1] == theta_star.shape[0] and y.shape[0] == theta_star.shape[1]"
   ]
  },
  {
   "cell_type": "code",
   "execution_count": 7,
   "metadata": {},
   "outputs": [
    {
     "name": "stdout",
     "output_type": "stream",
     "text": [
      "Expected empirical risk: 52030.36\n"
     ]
    }
   ],
   "source": [
    "## Compute the empirical risk\n",
    "def empirical_risk(X, y, theta):\n",
    "    return np.linalg.norm(y - X @ theta)**2 / X.shape[0]\n",
    "\n",
    "## Compute the expected value of the empirical risk\n",
    "def expected_empirical_risk(X, y, theta, num_samples=1):\n",
    "    empirical_risks = np.zeros(num_samples)\n",
    "    for i in range(num_samples):\n",
    "        y_sample = define_setting(X, theta, sigma)\n",
    "        theta_star = np.linalg.inv(X.T @ X) @ X.T @ y\n",
    "        empirical_risks[i] = empirical_risk(X, y_sample, theta_star)\n",
    "    return empirical_risks.mean()\n",
    "\n",
    "expected = expected_empirical_risk(X, y, theta_star) * (n / (n - d))\n",
    "print(f\"Expected empirical risk: {expected:.2f}\")"
   ]
  },
  {
   "cell_type": "code",
   "execution_count": 8,
   "metadata": {},
   "outputs": [
    {
     "name": "stdout",
     "output_type": "stream",
     "text": [
      "166.25002263648878\n"
     ]
    },
    {
     "data": {
      "text/plain": [
       "23.75"
      ]
     },
     "execution_count": 8,
     "metadata": {},
     "output_type": "execute_result"
    }
   ],
   "source": [
    "theta_star = rng.uniform(a_theta, b_theta, size=(d, n))\n",
    "y_test = define_setting(X, theta_star, sigma)\n",
    "theta_test = np.linalg.inv(X.T @ X) @ X.T @ y_test\n",
    "print(empirical_risk(X, y_test, theta_test) * (n / (n - d)))\n",
    "((n-d)/n) * sigma**2"
   ]
  },
  {
   "cell_type": "code",
   "execution_count": 3,
   "metadata": {},
   "outputs": [],
   "source": [
    "def define_X_theta(n:int,d:int,a_x =0,b_x=200,a_theta = -160,b_theta = 160):\n",
    "    X = rng.uniform(a_x, b_x, size=(n,d))\n",
    "    theta_star = rng.uniform(a_theta, b_theta, size=(d, n))\n",
    "    return X,theta_star\n"
   ]
  },
  {
   "cell_type": "code",
   "execution_count": 19,
   "metadata": {},
   "outputs": [],
   "source": [
    "X_,theta_ = define_X_theta(500,1,a_x =0,b_x=10,a_theta = 0,b_theta = 10)\n",
    "sigma_ = 1\n",
    "y_ = define_setting(X_, theta_, sigma_)"
   ]
  },
  {
   "cell_type": "code",
   "execution_count": 20,
   "metadata": {},
   "outputs": [
    {
     "name": "stdout",
     "output_type": "stream",
     "text": [
      "[[31.65163578 20.84726141 12.57910567 ... 18.48454471 15.61088778\n",
      "  22.96006146]\n",
      " [74.88284818 49.32137858 29.76020786 ... 43.7315583  36.93293288\n",
      "  54.31993495]\n",
      " [63.29157671 41.68682004 25.15356353 ... 36.96225964 31.21600755\n",
      "  45.91163949]\n",
      " ...\n",
      " [81.92614328 53.96042521 32.55937925 ... 47.84484029 40.406753\n",
      "  59.4291334 ]\n",
      " [81.62728346 53.76358203 32.44060532 ... 47.67030626 40.2593525\n",
      "  59.21234082]\n",
      " [38.54270099 25.38604225 15.31777732 ... 22.5089245  19.00962668\n",
      "  27.95883252]]\n",
      "153.05804856665094\n"
     ]
    }
   ],
   "source": [
    "\n",
    "\n",
    "theta_hat_ = np.linalg.inv(X_.T @ X_) @ X_.T @ y_\n",
    "print(X_ @ theta_hat_)\n",
    "print(empirical_risk(X_,y_,theta_hat_)*(X_.shape[0]/(X_.shape[0]-theta_hat_.shape[0]))) "
   ]
  },
  {
   "cell_type": "code",
   "execution_count": null,
   "metadata": {},
   "outputs": [
    {
     "data": {
      "text/plain": [
       "23.75"
      ]
     },
     "execution_count": 62,
     "metadata": {},
     "output_type": "execute_result"
    }
   ],
   "source": [
    "((n-d)/(n))*sigma**2"
   ]
  },
  {
   "cell_type": "code",
   "execution_count": null,
   "metadata": {},
   "outputs": [
    {
     "data": {
      "text/plain": [
       "25"
      ]
     },
     "execution_count": 63,
     "metadata": {},
     "output_type": "execute_result"
    }
   ],
   "source": [
    "sigma**2"
   ]
  },
  {
   "cell_type": "code",
   "execution_count": null,
   "metadata": {},
   "outputs": [],
   "source": []
  }
 ],
 "metadata": {
  "kernelspec": {
   "display_name": "Python 3.10.9 64-bit",
   "language": "python",
   "name": "python3"
  },
  "language_info": {
   "codemirror_mode": {
    "name": "ipython",
    "version": 3
   },
   "file_extension": ".py",
   "mimetype": "text/x-python",
   "name": "python",
   "nbconvert_exporter": "python",
   "pygments_lexer": "ipython3",
   "version": "3.10.11"
  },
  "orig_nbformat": 4,
  "vscode": {
   "interpreter": {
    "hash": "3fe098a60de41da4d418149dd85333239847aa92272c8f79d3c6f03653219927"
   }
  }
 },
 "nbformat": 4,
 "nbformat_minor": 2
}
