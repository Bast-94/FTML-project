{
 "cells": [
  {
   "cell_type": "markdown",
   "metadata": {},
   "source": [
    "# Esperance du risque empirique pour OLS"
   ]
  },
  {
   "cell_type": "markdown",
   "metadata": {},
   "source": [
    "## Question 1 (M)\n",
    "\n",
    "Montrer que : $E[R_n(\\hat{\\theta})]=E[\\frac{1}{n}||(I_n-X(X^TX)^{-1}X^T)\\epsilon||_{2}^2]$\n",
    "\n",
    "$E[R_n(\\hat{\\theta})]=E[\\frac{1}{n}||y-X\\hat{\\theta}||_{2}^2]$\n",
    "\n",
    "$E[R_n(\\hat{\\theta})]=E[\\frac{1}{n}||y-X(X^TX)^{-1}X^Ty||_{2}^2]]$\n",
    "\n",
    "On a :\n",
    "$y=(X\\theta^*+\\epsilon)$\n",
    "\n",
    "Par consequent: \n",
    "\n",
    "$E[R_n(\\hat{\\theta})]=E[\\frac{1}{n}||(I_n-X(X^TX)^{-1}X^T)(X\\theta^*+\\epsilon)||_{2}^2]$\n",
    "\n",
    "$E[R_n(\\hat{\\theta})]=E[\\frac{1}{n}||(X\\theta^*-X((X^TX)^{-1}(X^TX)\\theta^*)+(I_n-X(X^TX)^{-1}X^T)(\\epsilon)||_{2}^2]$\n",
    "\n",
    "$E[R_n(\\hat{\\theta})]=E[\\frac{1}{n}||(X\\theta^*-X\\theta^*)+(I_n-X(X^TX)^{-1}X^T)(\\epsilon)||_{2}^2]$\n",
    "\n",
    "$E[R_n(\\hat{\\theta})]=E[\\frac{1}{n}||(I_n-X(X^TX)^{-1}X^T)\\epsilon||_{2}^2]$\n",
    "\n",
    "\n",
    "\n",
    "\n",
    "\n",
    "\n"
   ]
  },
  {
   "cell_type": "markdown",
   "metadata": {},
   "source": []
  }
 ],
 "metadata": {
  "language_info": {
   "name": "python"
  },
  "orig_nbformat": 4
 },
 "nbformat": 4,
 "nbformat_minor": 2
}
