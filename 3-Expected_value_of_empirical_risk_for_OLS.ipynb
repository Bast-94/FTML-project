{
 "cells": [
  {
   "attachments": {},
   "cell_type": "markdown",
   "metadata": {},
   "source": [
    "# 3-Esperance du risque empirique pour OLS"
   ]
  },
  {
   "attachments": {},
   "cell_type": "markdown",
   "metadata": {},
   "source": [
    "## Question 1 (M)\n",
    "\n",
    "Montrer que : $E[R_n(\\hat{\\theta})]=E[\\frac{1}{n}||(I_n-X(X^TX)^{-1}X^T)\\epsilon||_{2}^2]$\n",
    "\n",
    "$E[R_n(\\hat{\\theta})]=E[\\frac{1}{n}||y-X\\hat{\\theta}||_{2}^2]$\n",
    "\n",
    "$E[R_n(\\hat{\\theta})]=E[\\frac{1}{n}||y-X(X^TX)^{-1}X^Ty||_{2}^2]]$\n",
    "\n",
    "On a :\n",
    "$y=(X\\theta^*+\\epsilon)$\n",
    "\n",
    "Par consequent: \n",
    "\n",
    "$E[R_n(\\hat{\\theta})]=E[\\frac{1}{n}||(I_n-X(X^TX)^{-1}X^T)(X\\theta^*+\\epsilon)||_{2}^2]$\n",
    "\n",
    "$E[R_n(\\hat{\\theta})]=E[\\frac{1}{n}||(X\\theta^*-X((X^TX)^{-1}(X^TX)\\theta^*)+(I_n-X(X^TX)^{-1}X^T)(\\epsilon)||_{2}^2]$\n",
    "\n",
    "$E[R_n(\\hat{\\theta})]=E[\\frac{1}{n}||(X\\theta^*-X\\theta^*)+(I_n-X(X^TX)^{-1}X^T)(\\epsilon)||_{2}^2]$\n",
    "\n",
    "$E[R_n(\\hat{\\theta})]=E[\\frac{1}{n}||(I_n-X(X^TX)^{-1}X^T)\\epsilon||_{2}^2]$\n",
    "\n",
    "\n",
    "\n",
    "\n",
    "\n",
    "\n"
   ]
  },
  {
   "attachments": {},
   "cell_type": "markdown",
   "metadata": {},
   "source": [
    "# Question 2 (M)"
   ]
  },
  {
   "attachments": {},
   "cell_type": "markdown",
   "metadata": {},
   "source": [
    "# Question 3 (M)\n",
    "\n",
    "Show that:\n",
    "$E_{\\epsilon}[\\frac{1}{n}||A\\epsilon||^2]=\\frac{\\sigma^2}{n}tr(A^TA)$"
   ]
  }
 ],
 "metadata": {
  "kernelspec": {
   "display_name": "Python 3.10.9 64-bit",
   "language": "python",
   "name": "python3"
  },
  "language_info": {
   "name": "python",
   "version": "3.10.9"
  },
  "orig_nbformat": 4,
  "vscode": {
   "interpreter": {
    "hash": "3fe098a60de41da4d418149dd85333239847aa92272c8f79d3c6f03653219927"
   }
  }
 },
 "nbformat": 4,
 "nbformat_minor": 2
}
