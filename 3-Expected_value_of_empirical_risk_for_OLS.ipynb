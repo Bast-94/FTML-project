{
 "cells": [
  {
   "attachments": {},
   "cell_type": "markdown",
   "metadata": {},
   "source": [
    "# 3-Esperance du risque empirique pour OLS"
   ]
  },
  {
   "attachments": {},
   "cell_type": "markdown",
   "metadata": {},
   "source": [
    "## Question 1 (M)\n",
    "\n",
    "Montrer que : $E[R_n(\\hat{\\theta})]=E[\\frac{1}{n}||(I_n-X(X^TX)^{-1}X^T)\\epsilon||_{2}^2]$\n",
    "\n",
    "$E[R_n(\\hat{\\theta})]=E[\\frac{1}{n}||y-X\\hat{\\theta}||_{2}^2]$\n",
    "\n",
    "$E[R_n(\\hat{\\theta})]=E[\\frac{1}{n}||y-X(X^TX)^{-1}X^Ty||_{2}^2]]$\n",
    "\n",
    "On a :\n",
    "$y=(X\\theta^*+\\epsilon)$\n",
    "\n",
    "Par consequent: \n",
    "\n",
    "$E[R_n(\\hat{\\theta})]=E[\\frac{1}{n}||(I_n-X(X^TX)^{-1}X^T)(X\\theta^*+\\epsilon)||_{2}^2]$\n",
    "\n",
    "$E[R_n(\\hat{\\theta})]=E[\\frac{1}{n}||(X\\theta^*-X((X^TX)^{-1}(X^TX)\\theta^*)+(I_n-X(X^TX)^{-1}X^T)(\\epsilon)||_{2}^2]$\n",
    "\n",
    "$E[R_n(\\hat{\\theta})]=E[\\frac{1}{n}||(X\\theta^*-X\\theta^*)+(I_n-X(X^TX)^{-1}X^T)(\\epsilon)||_{2}^2]$\n",
    "\n",
    "$E[R_n(\\hat{\\theta})]=E[\\frac{1}{n}||(I_n-X(X^TX)^{-1}X^T)\\epsilon||_{2}^2]$\n",
    "\n",
    "\n",
    "\n",
    "\n",
    "\n",
    "\n"
   ]
  },
  {
   "attachments": {},
   "cell_type": "markdown",
   "metadata": {},
   "source": [
    "## Question 2 (M)\n",
    "**<u>Preuve</u>**\n",
    "\n",
    "1. Soient $A,B\\in \\mathbb{R^{n,n}}$. Pour $AB=[c_{ij}]$ $\\forall(i,j)\\in \\mathbb{N}^2$ on a $c_{ij}=\\sum_{k=1}^n=a_{ik}b_{kj}$\n",
    "2. Pour $A^T$ $\\forall(i,j)\\in \\mathbb{N}^2$ $a^T_{ij}=a_{ji}$\n",
    "3. Donc pour $A^TA=[c_{ij}]$, $\\forall(i,j)\\in \\mathbb{N}^2$ on aura $c_{ij}=\\sum_{k=1}^n=a_{ki}a_{kj}$ puisque $a^T_{ij}=a_{ji}$\n",
    "\n",
    "    $tr(A^TA)=\\sum_{i=1}^{n}c_{ii}=\\sum_{i=1}^{n}\\sum_{k=1}^{n}a_{ki}a_{ki}$\n",
    "    \n",
    "    $tr(A^TA)=\\sum_{i=1}^{n}\\sum_{k=1}^{n}(a_{ki})^2$\n",
    "\n",
    "    $tr(A^TA)= \\underset{{(k,i)\\in[1,n]^{2}}}{\\sum(a_{ki})^2}=\\underset{{(i,j)\\in[1,n]^{2}}}{\\sum(a_{ij})^2}=\\underset{{(i,j)\\in[1,n]^{2}}}{\\sum A_{ij}^2}$"
   ]
  },
  {
   "attachments": {},
   "cell_type": "markdown",
   "metadata": {},
   "source": [
    "## Question 3 (M)\n",
    "\n",
    "Show that:\n",
    "$E_{\\epsilon}[\\frac{1}{n}||A\\epsilon||^2]=\\frac{\\sigma^2}{n}tr(A^TA)$"
   ]
  },
  {
   "attachments": {},
   "cell_type": "markdown",
   "metadata": {},
   "source": [
    "## Question 4 (M)\n",
    "\n",
    "**<u>Preuve</u>**\n",
    "\n",
    "$A^TA= (I_n - X(X^TX)^{-1}X^T)^T(I_n - X(X^TX)^{-1}X^T)$\\\n",
    "$=(I_n^T - (X(X^TX)^{-1}X^T)^T)(I_n - X^T(X^TX)^{-1}X^T)$\\\n",
    "$=(I_n - X(X^TX)^{-1}X^T)(I_n - X^T(X^TX)^{-1}X^T)$\\\n",
    "$=I_n - X(X^TX)^{-1}X^T - X(X^TX)^{-1}X^T + X(X^TX)^{-1}X^TX(X^TX)^{-1}X^T$\\\n",
    "$=I_n - 2X(X^TX)^{-1}X^T + XI_n(X^TX)^{-1}X^T$\\\n",
    "$=I_n - X(X^TX)^{-1}X^T$\n",
    "\n",
    "$A^TA=A$"
   ]
  },
  {
   "attachments": {},
   "cell_type": "markdown",
   "metadata": {},
   "source": []
  }
 ],
 "metadata": {
  "kernelspec": {
   "display_name": "Python 3.10.9 64-bit",
   "language": "python",
   "name": "python3"
  },
  "language_info": {
   "name": "python",
   "version": "3.10.9"
  },
  "orig_nbformat": 4,
  "vscode": {
   "interpreter": {
    "hash": "3fe098a60de41da4d418149dd85333239847aa92272c8f79d3c6f03653219927"
   }
  }
 },
 "nbformat": 4,
 "nbformat_minor": 2
}
