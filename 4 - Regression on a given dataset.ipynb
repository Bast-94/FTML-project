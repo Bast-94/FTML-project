{
 "cells": [
  {
   "attachments": {},
   "cell_type": "markdown",
   "metadata": {},
   "source": [
    "# 4 - Regression on a given dataset"
   ]
  },
  {
   "attachments": {},
   "cell_type": "markdown",
   "metadata": {},
   "source": [
    "### Imports"
   ]
  },
  {
   "cell_type": "code",
   "execution_count": 1,
   "metadata": {},
   "outputs": [],
   "source": [
    "import numpy as np\n",
    "import matplotlib.pyplot as plt\n",
    "from sklearn.model_selection import train_test_split\n",
    "from sklearn.linear_model import Ridge, Lasso\n",
    "from sklearn.metrics import r2_score\n",
    "from sklearn.preprocessing import StandardScaler"
   ]
  },
  {
   "attachments": {},
   "cell_type": "markdown",
   "metadata": {},
   "source": [
    "### Loading the dataset"
   ]
  },
  {
   "cell_type": "code",
   "execution_count": 2,
   "metadata": {},
   "outputs": [],
   "source": [
    "# Training - Load the raw data and the associated labels\n",
    "X_train = np.load('./data/regression/X_train.npy')\n",
    "y_train = np.load('./data/regression/y_train.npy')\n",
    "\n",
    "# Testing - Similarly, the raw data and the associated labels\n",
    "X_test = np.load('./data/regression/X_test.npy')\n",
    "y_test = np.load('./data/regression/y_test.npy')"
   ]
  },
  {
   "attachments": {},
   "cell_type": "markdown",
   "metadata": {},
   "source": [
    "## Regression"
   ]
  },
  {
   "attachments": {},
   "cell_type": "markdown",
   "metadata": {},
   "source": [
    "### Ridge"
   ]
  },
  {
   "attachments": {},
   "cell_type": "markdown",
   "metadata": {},
   "source": [
    "For the Ridge regression, we have to find the $\\lambda$ that minimizes the empirical risk. To that end, we use the Optunity library to find the best $\\lambda$ in a specific range. After finding the best value for the parameter, we use the `R2` score as a metric to evaluate the performance of the Ridge regression."
   ]
  },
  {
   "cell_type": "code",
   "execution_count": 3,
   "metadata": {},
   "outputs": [
    {
     "name": "stderr",
     "output_type": "stream",
     "text": [
      "[I 2023-06-20 16:33:31,766] A new study created in memory with name: no-name-f4e99142-27ad-49bc-857d-cc0c1db58fad\n"
     ]
    },
    {
     "data": {
      "application/vnd.jupyter.widget-view+json": {
       "model_id": "2d9b8823576c4e58a862a0fc4fe57de9",
       "version_major": 2,
       "version_minor": 0
      },
      "text/plain": [
       "  0%|          | 0/500 [00:00<?, ?it/s]"
      ]
     },
     "metadata": {},
     "output_type": "display_data"
    },
    {
     "name": "stdout",
     "output_type": "stream",
     "text": [
      "{'alpha': 2.0801118914092473}\n",
      "0.5568448762057682\n"
     ]
    }
   ],
   "source": [
    "# Hyperparameter search with Optuna\n",
    "\n",
    "import optuna\n",
    "from sklearn.model_selection import cross_val_score, KFold\n",
    "\n",
    "def objective(trial):\n",
    "    # Define the hyperparameter configuration space for the Ridge regressor\n",
    "    alpha = trial.suggest_float('alpha', 1e-10, 1e5, log=True)\n",
    "\n",
    "    # Define the Ridge regressor\n",
    "    ridge_regressor = Ridge(alpha=alpha)\n",
    "\n",
    "    # Fit the model to the training data\n",
    "    ridge_regressor.fit(X_train, y_train)\n",
    "\n",
    "    # Define the cross-validation folds\n",
    "\n",
    "    cv = KFold(n_splits=5, shuffle=True, random_state=42)\n",
    "\n",
    "    # Evaluate the model\n",
    "    cross_validation_score = cross_val_score(ridge_regressor, X_train, y_train, cv=cv, n_jobs=-1).mean()\n",
    "\n",
    "    return cross_validation_score\n",
    "\n",
    "# Create a study object and optimize the objective function\n",
    "study = optuna.create_study(store\n",
    "\n",
    "optuna.logging.set_verbosity(optuna.logging.WARNING)\n",
    "\n",
    "# Start the optimization\n",
    "study.optimize(objective, n_trials=500, n_jobs=5, show_progress_bar=True)\n",
    "\n",
    "# Print the optimized parameter values\n",
    "print(study.best_params)\n",
    "print(study.best_value)"
   ]
  },
  {
   "cell_type": "code",
   "execution_count": 4,
   "metadata": {},
   "outputs": [
    {
     "name": "stdout",
     "output_type": "stream",
     "text": [
      "R2 score: 0.59\n"
     ]
    }
   ],
   "source": [
    "ridge = Ridge(**study.best_params)\n",
    "ridge.fit(X_train, y_train)\n",
    "y_pred = ridge.predict(X_test)\n",
    "r2 = r2_score(y_test, y_pred)\n",
    "print(f\"R2 score: {r2:.2f}\")"
   ]
  },
  {
   "attachments": {},
   "cell_type": "markdown",
   "metadata": {},
   "source": [
    "### Lasso"
   ]
  },
  {
   "attachments": {},
   "cell_type": "markdown",
   "metadata": {},
   "source": [
    "We use the same approach as for the Ridge regression, applied to the Lasso regression. We also use the `R2` score as a metric to evaluate the performance of the Lasso regression."
   ]
  },
  {
   "cell_type": "code",
   "execution_count": 5,
   "metadata": {},
   "outputs": [
    {
     "data": {
      "application/vnd.jupyter.widget-view+json": {
       "model_id": "838316367581465a966a6c397bbfc15f",
       "version_major": 2,
       "version_minor": 0
      },
      "text/plain": [
       "  0%|          | 0/500 [00:00<?, ?it/s]"
      ]
     },
     "metadata": {},
     "output_type": "display_data"
    },
    {
     "name": "stdout",
     "output_type": "stream",
     "text": [
      "{'alpha': 0.009022172041213472}\n",
      "0.8718600551752118\n"
     ]
    }
   ],
   "source": [
    "# Same with Lasso\n",
    "def objective(trial):\n",
    "    # Define the hyperparameter configuration space for the Lasso regressor\n",
    "    alpha = trial.suggest_float('alpha', 1e-10, 1e5, log=True)\n",
    "\n",
    "    # Define the Lasso regressor\n",
    "    lasso_regressor = Lasso(alpha=alpha, max_iter=10000, tol=1e-2)\n",
    "\n",
    "    # Fit the model to the training data\n",
    "    lasso_regressor.fit(X_train, y_train)\n",
    "\n",
    "    # Define the cross-validation folds\n",
    "\n",
    "    cv = KFold(n_splits=5, shuffle=True, random_state=42)\n",
    "\n",
    "    # Evaluate the model\n",
    "    cross_validation_score = cross_val_score(lasso_regressor, X_train, y_train, cv=cv, n_jobs=-1).mean()\n",
    "\n",
    "    return cross_validation_score\n",
    "\n",
    "# Create a study object and optimize the objective function\n",
    "study = optuna.create_study(direction='maximize')\n",
    "\n",
    "optuna.logging.set_verbosity(optuna.logging.ERROR)\n",
    "\n",
    "# Start the optimization\n",
    "study.optimize(objective, n_trials=500, n_jobs=5, show_progress_bar=True)\n",
    "\n",
    "# Print the optimized parameter values\n",
    "print(study.best_params)\n",
    "print(study.best_value)"
   ]
  },
  {
   "cell_type": "code",
   "execution_count": 6,
   "metadata": {},
   "outputs": [
    {
     "name": "stdout",
     "output_type": "stream",
     "text": [
      "R2 score: 0.88\n"
     ]
    }
   ],
   "source": [
    "lasso = Lasso(**study.best_params)\n",
    "lasso.fit(X_train, y_train)\n",
    "y_pred = lasso.predict(X_test)\n",
    "r2 = r2_score(y_test, y_pred)\n",
    "print(f\"R2 score: {r2:.2f}\")"
   ]
  },
  {
   "attachments": {},
   "cell_type": "markdown",
   "metadata": {},
   "source": [
    "## Results"
   ]
  },
  {
   "attachments": {},
   "cell_type": "markdown",
   "metadata": {},
   "source": [
    "We can conclude that the most efficient regression is the Lasso regression. Indeed, the output `R2` performs as well as the Bayes estimator."
   ]
  },
  {
   "attachments": {},
   "cell_type": "markdown",
   "metadata": {},
   "source": [
    "<!-- random_forest_regressor =  -->"
   ]
  }
 ],
 "metadata": {
  "kernelspec": {
   "display_name": "Python 3",
   "language": "python",
   "name": "python3"
  },
  "language_info": {
   "codemirror_mode": {
    "name": "ipython",
    "version": 3
   },
   "file_extension": ".py",
   "mimetype": "text/x-python",
   "name": "python",
   "nbconvert_exporter": "python",
   "pygments_lexer": "ipython3",
   "version": "3.10.4"
  },
  "orig_nbformat": 4
 },
 "nbformat": 4,
 "nbformat_minor": 2
}
